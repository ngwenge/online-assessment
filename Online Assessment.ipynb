{
 "cells": [
  {
   "cell_type": "markdown",
   "metadata": {},
   "source": [
    "# Online Assessment - Data Scientist\n",
    "\n",
    "### Candidate: Ng Wen Ge"
   ]
  },
  {
   "cell_type": "markdown",
   "metadata": {},
   "source": [
    "## Import Libraries"
   ]
  },
  {
   "cell_type": "code",
   "execution_count": 2,
   "metadata": {},
   "outputs": [],
   "source": [
    "import numpy as np\n",
    "import pandas as pd\n",
    "import re\n",
    "import datetime as dt\n",
    "import matplotlib.pyplot as plt\n",
    "import nltk\n",
    "\n",
    "%matplotlib inline"
   ]
  },
  {
   "cell_type": "markdown",
   "metadata": {},
   "source": [
    "## Q1)  Write a function in python to sum up a given set of numbers other than itself \n",
    "\n",
    "Input: An array of n integers nums\n",
    "\n",
    "Output: An array output such that output[i] is equal to the sum of all the elements of nums except nums[i]. \n",
    "\n",
    "For example, given [1,2,3,4], return [9,8,7,6]. "
   ]
  },
  {
   "cell_type": "code",
   "execution_count": 3,
   "metadata": {},
   "outputs": [],
   "source": [
    "def sum_others(nums):\n",
    "    return [sum(nums)-num for num in nums]"
   ]
  },
  {
   "cell_type": "code",
   "execution_count": 4,
   "metadata": {},
   "outputs": [
    {
     "data": {
      "text/plain": [
       "[9, 8, 7, 6]"
      ]
     },
     "execution_count": 4,
     "metadata": {},
     "output_type": "execute_result"
    }
   ],
   "source": [
    "sum_others([1,2,3,4])"
   ]
  },
  {
   "cell_type": "markdown",
   "metadata": {},
   "source": [
    "## Q2 Jobposts Data Exploration and Analysis "
   ]
  },
  {
   "cell_type": "markdown",
   "metadata": {},
   "source": [
    "![alt text](screenshot.jpg \"Example\")"
   ]
  },
  {
   "cell_type": "markdown",
   "metadata": {},
   "source": [
    "#### Extract the following fields by processing content in the jobpost column: \n",
    "\n",
    "1. Job Title \n",
    "2. Position Duration \n",
    "3. Position Location \n",
    "4. Job Description \n",
    "5. Job Responsibilities \n",
    "6. Required Qualifications \n",
    "7. Remuneration \n",
    "8. Application Deadline \n",
    "9. About Company "
   ]
  },
  {
   "cell_type": "code",
   "execution_count": 5,
   "metadata": {},
   "outputs": [],
   "source": [
    "df = pd.read_csv('data job posts.csv')"
   ]
  },
  {
   "cell_type": "code",
   "execution_count": 663,
   "metadata": {},
   "outputs": [],
   "source": [
    "def clean_text(x):\n",
    "    x1 = x.replace('\\r',' ').replace('\\n',' ').replace('\\t',' ').strip()\n",
    "    x1 = ' '.join(i for i in x1.split(' ') if i != '')\n",
    "    return x1\n",
    "\n",
    "def find_predecessor(x, ls_to_check):\n",
    "    for str_to_check in ls_to_check:\n",
    "        c = re.compile(r'\\s+({}):'.format(str_to_check))\n",
    "        if len(c.findall(x))>0:\n",
    "            return str_to_check\n",
    "    return np.nan\n",
    "\n",
    "def adj_titles(ls_titles, ls_to_check):\n",
    "    for idx,i in enumerate(ls_titles):\n",
    "        for j in ls_to_check:\n",
    "            if j in i:\n",
    "                ls_titles[idx] = j\n",
    "    return ls_titles\n",
    "\n",
    "def find_successor(x, predecessor, ls_to_check, c):\n",
    "#     c = re.compile(r'\\s+([A-Z]*\\s{0,1}[A-Z]{3,}):')\n",
    "    titles = c.findall(x)\n",
    "    try:\n",
    "        find_index = titles.index(predecessor)\n",
    "    except:\n",
    "        titles = adj_titles(titles, ls_to_check)\n",
    "        find_index = titles.index(predecessor)\n",
    "    if find_index == len(titles)-1:\n",
    "        return np.nan\n",
    "    else:\n",
    "        return titles[titles.index(predecessor)+1]\n",
    "\n",
    "def extract_info(x, possible_words, custom_compiler):\n",
    "    '''\n",
    "    Given the jobpost and list of words to search, this function looks for\n",
    "    predecessor which is current title in capital letter (the word to search), \n",
    "    and successor which is the next title in capital letter and extract the \n",
    "    information between them.\n",
    "    '''\n",
    "    predecessor = find_predecessor(x, possible_words)\n",
    "    if pd.isna(predecessor):\n",
    "        return predecessor\n",
    "    else:\n",
    "        successor = find_successor(x, predecessor, possible_words, custom_compiler)\n",
    "        if pd.isna(successor):\n",
    "            c = re.compile(r'{}:((?s).*)'.format(predecessor))\n",
    "            return c.findall(x)[0]\n",
    "        else:\n",
    "            c = re.compile(r'{}:((?s).*){}'.format(predecessor,successor))\n",
    "            return clean_text(c.findall(x)[0])"
   ]
  },
  {
   "cell_type": "code",
   "execution_count": 664,
   "metadata": {
    "scrolled": true
   },
   "outputs": [
    {
     "name": "stderr",
     "output_type": "stream",
     "text": [
      "C:\\Users\\ngwge\\Anaconda3\\lib\\site-packages\\ipykernel_launcher.py:49: DeprecationWarning: Flags not at the start of the expression 'JOB TITLE:((?s).*)PO' (truncated)\n",
      "C:\\Users\\ngwge\\Anaconda3\\lib\\site-packages\\ipykernel_launcher.py:49: DeprecationWarning: Flags not at the start of the expression 'TITLE:((?s).*)DURATI' (truncated)\n",
      "C:\\Users\\ngwge\\Anaconda3\\lib\\site-packages\\ipykernel_launcher.py:49: DeprecationWarning: Flags not at the start of the expression 'JOB TITLE:((?s).*)WO' (truncated)\n",
      "C:\\Users\\ngwge\\Anaconda3\\lib\\site-packages\\ipykernel_launcher.py:49: DeprecationWarning: Flags not at the start of the expression 'TITLE:((?s).*)DESCRI' (truncated)\n",
      "C:\\Users\\ngwge\\Anaconda3\\lib\\site-packages\\ipykernel_launcher.py:49: DeprecationWarning: Flags not at the start of the expression 'JOB TITLE:((?s).*)JO' (truncated)\n",
      "C:\\Users\\ngwge\\Anaconda3\\lib\\site-packages\\ipykernel_launcher.py:49: DeprecationWarning: Flags not at the start of the expression 'JOB TITLE:((?s).*)DU' (truncated)\n",
      "C:\\Users\\ngwge\\Anaconda3\\lib\\site-packages\\ipykernel_launcher.py:49: DeprecationWarning: Flags not at the start of the expression 'TITLE:((?s).*)LOCATI' (truncated)\n",
      "C:\\Users\\ngwge\\Anaconda3\\lib\\site-packages\\ipykernel_launcher.py:49: DeprecationWarning: Flags not at the start of the expression 'JOB TITLE:((?s).*)RE' (truncated)\n",
      "C:\\Users\\ngwge\\Anaconda3\\lib\\site-packages\\ipykernel_launcher.py:49: DeprecationWarning: Flags not at the start of the expression 'TITLE:((?s).*)PROJEC' (truncated)\n",
      "C:\\Users\\ngwge\\Anaconda3\\lib\\site-packages\\ipykernel_launcher.py:49: DeprecationWarning: Flags not at the start of the expression 'JOB TITLE:((?s).*)PR' (truncated)\n",
      "C:\\Users\\ngwge\\Anaconda3\\lib\\site-packages\\ipykernel_launcher.py:49: DeprecationWarning: Flags not at the start of the expression 'JOB TITLE:((?s).*)FU' (truncated)\n",
      "C:\\Users\\ngwge\\Anaconda3\\lib\\site-packages\\ipykernel_launcher.py:49: DeprecationWarning: Flags not at the start of the expression 'TITLE:((?s).*)THE AW' (truncated)\n",
      "C:\\Users\\ngwge\\Anaconda3\\lib\\site-packages\\ipykernel_launcher.py:49: DeprecationWarning: Flags not at the start of the expression 'JOB TITLE:((?s).*)SO' (truncated)\n",
      "C:\\Users\\ngwge\\Anaconda3\\lib\\site-packages\\ipykernel_launcher.py:49: DeprecationWarning: Flags not at the start of the expression 'TITLE:((?s).*)ELIGIB' (truncated)\n",
      "C:\\Users\\ngwge\\Anaconda3\\lib\\site-packages\\ipykernel_launcher.py:49: DeprecationWarning: Flags not at the start of the expression 'TITLE:((?s).*)TIME'\n",
      "C:\\Users\\ngwge\\Anaconda3\\lib\\site-packages\\ipykernel_launcher.py:49: DeprecationWarning: Flags not at the start of the expression 'TITLE:((?s).*)EVENT ' (truncated)\n",
      "C:\\Users\\ngwge\\Anaconda3\\lib\\site-packages\\ipykernel_launcher.py:49: DeprecationWarning: Flags not at the start of the expression 'TITLE:((?s).*)TERM'\n",
      "C:\\Users\\ngwge\\Anaconda3\\lib\\site-packages\\ipykernel_launcher.py:49: DeprecationWarning: Flags not at the start of the expression 'TITLE:((?s).*)ANNOUN' (truncated)\n",
      "C:\\Users\\ngwge\\Anaconda3\\lib\\site-packages\\ipykernel_launcher.py:49: DeprecationWarning: Flags not at the start of the expression 'TITLE:((?s).*)EDUCAT' (truncated)\n",
      "C:\\Users\\ngwge\\Anaconda3\\lib\\site-packages\\ipykernel_launcher.py:49: DeprecationWarning: Flags not at the start of the expression 'TITLE:((?s).*)INTEND' (truncated)\n",
      "C:\\Users\\ngwge\\Anaconda3\\lib\\site-packages\\ipykernel_launcher.py:49: DeprecationWarning: Flags not at the start of the expression 'TITLE:((?s).*)AUTHOR'\n",
      "C:\\Users\\ngwge\\Anaconda3\\lib\\site-packages\\ipykernel_launcher.py:49: DeprecationWarning: Flags not at the start of the expression 'TITLE:((?s).*)FELLOW' (truncated)\n",
      "C:\\Users\\ngwge\\Anaconda3\\lib\\site-packages\\ipykernel_launcher.py:49: DeprecationWarning: Flags not at the start of the expression 'TITLE:((?s).*)NEWS T' (truncated)\n",
      "C:\\Users\\ngwge\\Anaconda3\\lib\\site-packages\\ipykernel_launcher.py:49: DeprecationWarning: Flags not at the start of the expression 'TITLE:((?s).*)SCHOLA' (truncated)\n",
      "C:\\Users\\ngwge\\Anaconda3\\lib\\site-packages\\ipykernel_launcher.py:49: DeprecationWarning: Flags not at the start of the expression 'TITLE:((?s).*)CRITER' (truncated)\n",
      "C:\\Users\\ngwge\\Anaconda3\\lib\\site-packages\\ipykernel_launcher.py:49: DeprecationWarning: Flags not at the start of the expression 'DURATION:((?s).*)LOC' (truncated)\n",
      "C:\\Users\\ngwge\\Anaconda3\\lib\\site-packages\\ipykernel_launcher.py:49: DeprecationWarning: Flags not at the start of the expression 'POSITION DURATION:((' (truncated)\n",
      "C:\\Users\\ngwge\\Anaconda3\\lib\\site-packages\\ipykernel_launcher.py:49: DeprecationWarning: Flags not at the start of the expression 'DURATION:((?s).*)DES' (truncated)\n",
      "C:\\Users\\ngwge\\Anaconda3\\lib\\site-packages\\ipykernel_launcher.py:49: DeprecationWarning: Flags not at the start of the expression 'DURATION:((?s).*)POS' (truncated)\n",
      "C:\\Users\\ngwge\\Anaconda3\\lib\\site-packages\\ipykernel_launcher.py:49: DeprecationWarning: Flags not at the start of the expression 'DURATION:((?s).*)PRO' (truncated)\n",
      "C:\\Users\\ngwge\\Anaconda3\\lib\\site-packages\\ipykernel_launcher.py:49: DeprecationWarning: Flags not at the start of the expression 'POSITION LOCATION:((' (truncated)\n",
      "C:\\Users\\ngwge\\Anaconda3\\lib\\site-packages\\ipykernel_launcher.py:49: DeprecationWarning: Flags not at the start of the expression 'LOCATION:((?s).*)DES' (truncated)\n",
      "C:\\Users\\ngwge\\Anaconda3\\lib\\site-packages\\ipykernel_launcher.py:49: DeprecationWarning: Flags not at the start of the expression 'LOCATION:((?s).*)PRO' (truncated)\n",
      "C:\\Users\\ngwge\\Anaconda3\\lib\\site-packages\\ipykernel_launcher.py:49: DeprecationWarning: Flags not at the start of the expression 'LOCATION:((?s).*)JOB' (truncated)\n",
      "C:\\Users\\ngwge\\Anaconda3\\lib\\site-packages\\ipykernel_launcher.py:49: DeprecationWarning: Flags not at the start of the expression 'LOCATION:((?s).*)APP' (truncated)\n",
      "C:\\Users\\ngwge\\Anaconda3\\lib\\site-packages\\ipykernel_launcher.py:49: DeprecationWarning: Flags not at the start of the expression 'LOCATION:((?s).*)DET' (truncated)\n",
      "C:\\Users\\ngwge\\Anaconda3\\lib\\site-packages\\ipykernel_launcher.py:49: DeprecationWarning: Flags not at the start of the expression 'LOCATION:((?s).*)NEW' (truncated)\n",
      "C:\\Users\\ngwge\\Anaconda3\\lib\\site-packages\\ipykernel_launcher.py:49: DeprecationWarning: Flags not at the start of the expression 'JOB DESCRIPTION:((?s' (truncated)\n",
      "C:\\Users\\ngwge\\Anaconda3\\lib\\site-packages\\ipykernel_launcher.py:49: DeprecationWarning: Flags not at the start of the expression 'DESCRIPTION:((?s).*)' (truncated)\n",
      "C:\\Users\\ngwge\\Anaconda3\\lib\\site-packages\\ipykernel_launcher.py:46: DeprecationWarning: Flags not at the start of the expression 'DESCRIPTION:((?s).*)'\n",
      "C:\\Users\\ngwge\\Anaconda3\\lib\\site-packages\\ipykernel_launcher.py:49: DeprecationWarning: Flags not at the start of the expression 'JOB RESPONSIBILITIES' (truncated)\n",
      "C:\\Users\\ngwge\\Anaconda3\\lib\\site-packages\\ipykernel_launcher.py:49: DeprecationWarning: Flags not at the start of the expression 'RESPONSIBILITIES:((?' (truncated)\n",
      "C:\\Users\\ngwge\\Anaconda3\\lib\\site-packages\\ipykernel_launcher.py:49: DeprecationWarning: Flags not at the start of the expression 'REQUIRED QUALIFICATI' (truncated)\n",
      "C:\\Users\\ngwge\\Anaconda3\\lib\\site-packages\\ipykernel_launcher.py:49: DeprecationWarning: Flags not at the start of the expression 'QUALIFICATIONS:((?s)' (truncated)\n",
      "C:\\Users\\ngwge\\Anaconda3\\lib\\site-packages\\ipykernel_launcher.py:49: DeprecationWarning: Flags not at the start of the expression 'REMUNERATION:((?s).*' (truncated)\n",
      "C:\\Users\\ngwge\\Anaconda3\\lib\\site-packages\\ipykernel_launcher.py:49: DeprecationWarning: Flags not at the start of the expression 'SALARY:((?s).*)APPLI' (truncated)\n",
      "C:\\Users\\ngwge\\Anaconda3\\lib\\site-packages\\ipykernel_launcher.py:49: DeprecationWarning: Flags not at the start of the expression 'SALARY:((?s).*)BENEF' (truncated)\n",
      "C:\\Users\\ngwge\\Anaconda3\\lib\\site-packages\\ipykernel_launcher.py:49: DeprecationWarning: Flags not at the start of the expression 'SALARY:((?s).*)REQUI' (truncated)\n",
      "C:\\Users\\ngwge\\Anaconda3\\lib\\site-packages\\ipykernel_launcher.py:46: DeprecationWarning: Flags not at the start of the expression 'SALARY:((?s).*)'\n",
      "C:\\Users\\ngwge\\Anaconda3\\lib\\site-packages\\ipykernel_launcher.py:49: DeprecationWarning: Flags not at the start of the expression 'SALARY:((?s).*)PROCE' (truncated)\n",
      "C:\\Users\\ngwge\\Anaconda3\\lib\\site-packages\\ipykernel_launcher.py:46: DeprecationWarning: Flags not at the start of the expression 'APPLICATION DEADLINE' (truncated)\n",
      "C:\\Users\\ngwge\\Anaconda3\\lib\\site-packages\\ipykernel_launcher.py:49: DeprecationWarning: Flags not at the start of the expression 'APPLICATION DEADLINE' (truncated)\n"
     ]
    },
    {
     "name": "stderr",
     "output_type": "stream",
     "text": [
      "C:\\Users\\ngwge\\Anaconda3\\lib\\site-packages\\ipykernel_launcher.py:46: DeprecationWarning: Flags not at the start of the expression 'ABOUT COMPANY:((?s).' (truncated)\n",
      "C:\\Users\\ngwge\\Anaconda3\\lib\\site-packages\\ipykernel_launcher.py:49: DeprecationWarning: Flags not at the start of the expression 'ABOUT COMPANY:((?s).' (truncated)\n"
     ]
    }
   ],
   "source": [
    "compiler = re.compile(r'\\s+([A-Z]*\\s{0,1}[A-Z]{3,}):')\n",
    "\n",
    "df['Job Title'] = df['jobpost'].apply(lambda x: extract_info(x,['JOB TITLE','TITLE'],compiler),1)\n",
    "df['Position Duration'] = df['jobpost'].apply(lambda x: extract_info(x, ['POSITION DURATION','DURATION'],compiler),1)\n",
    "df['Position Location'] = df['jobpost'].apply(lambda x: extract_info(x, ['POSITION LOCATION','LOCATION'],compiler),1)\n",
    "df['Job Description'] = df['jobpost'].apply(lambda x: extract_info(x, ['JOB DESCRIPTION','DESCRIPTION'],compiler),1)\n",
    "df['Job Responsibilities'] = df['jobpost'].apply(lambda x: extract_info(x, ['JOB RESPONSIBILITIES','RESPONSIBILITIES'],compiler),1)\n",
    "df['Required Qualifications'] = df['jobpost'].apply(lambda x: extract_info(x, ['REQUIRED QUALIFICATIONS','QUALIFICATIONS'],compiler),1)\n",
    "df['Remuneration'] = df['jobpost'].apply(lambda x: extract_info(x, ['REMUNERATION','SALARY'],compiler),1)\n",
    "df['Application Deadline'] = df['jobpost'].apply(lambda x: extract_info(x, ['APPLICATION DEADLINE'],compiler),1)\n",
    "df['About Company'] = df['jobpost'].apply(lambda x: extract_info(x, ['ABOUT COMPANY'],compiler),1)"
   ]
  },
  {
   "cell_type": "code",
   "execution_count": 665,
   "metadata": {},
   "outputs": [],
   "source": [
    "def validate_with_nulls(x_original, x_new):\n",
    "    print(f'Total NULL values from original data: {x_original.isnull().sum()}')\n",
    "    print(f'Total NULL values using \"extracted_info\" function: {x_new.isnull().sum()}')"
   ]
  },
  {
   "cell_type": "code",
   "execution_count": 666,
   "metadata": {},
   "outputs": [
    {
     "name": "stdout",
     "output_type": "stream",
     "text": [
      "Total NULL values from original data: 28\n",
      "Total NULL values using \"extracted_info\" function: 21\n"
     ]
    }
   ],
   "source": [
    "validate_with_nulls(df['Title'],df['Job Title'])"
   ]
  },
  {
   "cell_type": "code",
   "execution_count": 667,
   "metadata": {},
   "outputs": [
    {
     "name": "stdout",
     "output_type": "stream",
     "text": [
      "Total NULL values from original data: 8187\n",
      "Total NULL values using \"extracted_info\" function: 8194\n"
     ]
    }
   ],
   "source": [
    "validate_with_nulls(df['Duration'],df['Position Duration'])"
   ]
  },
  {
   "cell_type": "code",
   "execution_count": 668,
   "metadata": {
    "scrolled": true
   },
   "outputs": [
    {
     "name": "stdout",
     "output_type": "stream",
     "text": [
      "Total NULL values from original data: 32\n",
      "Total NULL values using \"extracted_info\" function: 46\n"
     ]
    }
   ],
   "source": [
    "validate_with_nulls(df['Location'],df['Position Location'])"
   ]
  },
  {
   "cell_type": "code",
   "execution_count": 669,
   "metadata": {
    "scrolled": true
   },
   "outputs": [
    {
     "name": "stdout",
     "output_type": "stream",
     "text": [
      "Total NULL values from original data: 3886\n",
      "Total NULL values using \"extracted_info\" function: 45\n"
     ]
    }
   ],
   "source": [
    "validate_with_nulls(df['JobDescription'],df['Job Description'])"
   ]
  },
  {
   "cell_type": "code",
   "execution_count": 670,
   "metadata": {},
   "outputs": [
    {
     "name": "stdout",
     "output_type": "stream",
     "text": [
      "Total NULL values from original data: 2513\n",
      "Total NULL values using \"extracted_info\" function: 2496\n"
     ]
    }
   ],
   "source": [
    "validate_with_nulls(df['JobRequirment'],df['Job Responsibilities'])"
   ]
  },
  {
   "cell_type": "code",
   "execution_count": 671,
   "metadata": {},
   "outputs": [
    {
     "name": "stdout",
     "output_type": "stream",
     "text": [
      "Total NULL values from original data: 481\n",
      "Total NULL values using \"extracted_info\" function: 473\n"
     ]
    }
   ],
   "source": [
    "validate_with_nulls(df['RequiredQual'],df['Required Qualifications'])"
   ]
  },
  {
   "cell_type": "code",
   "execution_count": 672,
   "metadata": {},
   "outputs": [
    {
     "name": "stdout",
     "output_type": "stream",
     "text": [
      "Total NULL values from original data: 9358\n",
      "Total NULL values using \"extracted_info\" function: 9282\n"
     ]
    }
   ],
   "source": [
    "validate_with_nulls(df['Salary'],df['Remuneration'])"
   ]
  },
  {
   "cell_type": "code",
   "execution_count": 673,
   "metadata": {},
   "outputs": [
    {
     "name": "stdout",
     "output_type": "stream",
     "text": [
      "Total NULL values from original data: 65\n",
      "Total NULL values using \"extracted_info\" function: 58\n"
     ]
    }
   ],
   "source": [
    "validate_with_nulls(df['Deadline'],df['Application Deadline'])"
   ]
  },
  {
   "cell_type": "code",
   "execution_count": 674,
   "metadata": {},
   "outputs": [
    {
     "name": "stdout",
     "output_type": "stream",
     "text": [
      "Total NULL values from original data: 6523\n",
      "Total NULL values using \"extracted_info\" function: 6523\n"
     ]
    }
   ],
   "source": [
    "validate_with_nulls(df['AboutC'],df['About Company'])"
   ]
  },
  {
   "cell_type": "markdown",
   "metadata": {},
   "source": [
    "#### Identify the company with the most number of job ads in the past 2 years "
   ]
  },
  {
   "cell_type": "markdown",
   "metadata": {},
   "source": [
    "Assumed period for past 2 years: 2014 - 2015"
   ]
  },
  {
   "cell_type": "code",
   "execution_count": 18,
   "metadata": {},
   "outputs": [
    {
     "name": "stdout",
     "output_type": "stream",
     "text": [
      "Duplicated rows: 39\n"
     ]
    }
   ],
   "source": [
    "# Check duplications\n",
    "duplications = df.duplicated().sum()\n",
    "print(f'Duplicated rows: {duplications}')"
   ]
  },
  {
   "cell_type": "code",
   "execution_count": 19,
   "metadata": {},
   "outputs": [],
   "source": [
    "# Remove duplicates\n",
    "df = df.drop_duplicates()"
   ]
  },
  {
   "cell_type": "code",
   "execution_count": 20,
   "metadata": {},
   "outputs": [
    {
     "data": {
      "text/plain": [
       "2004     875\n",
       "2005    1137\n",
       "2006    1115\n",
       "2007    1536\n",
       "2008    1785\n",
       "2009    1190\n",
       "2010    1508\n",
       "2011    1692\n",
       "2012    2143\n",
       "2013    1997\n",
       "2014    1981\n",
       "2015    2003\n",
       "Name: Year, dtype: int64"
      ]
     },
     "execution_count": 20,
     "metadata": {},
     "output_type": "execute_result"
    }
   ],
   "source": [
    "# Display range of years and number of job posts appeared in each year\n",
    "df['Year'].value_counts(sort=False)"
   ]
  },
  {
   "cell_type": "code",
   "execution_count": 21,
   "metadata": {
    "scrolled": true
   },
   "outputs": [],
   "source": [
    "most_job_ads = df[df['Year'].isin([2014,2015])]\n",
    "total_jobposts = most_job_ads.shape[0]\n",
    "most_job_ads = most_job_ads.groupby('Company').agg({'jobpost':'count'}).sort_values('jobpost',ascending=False)\n",
    "top_company = most_job_ads.index[0]\n",
    "top_jobposts = most_job_ads['jobpost'][0]"
   ]
  },
  {
   "cell_type": "code",
   "execution_count": 22,
   "metadata": {},
   "outputs": [
    {
     "data": {
      "text/plain": [
       "<matplotlib.axes._subplots.AxesSubplot at 0x2b99a4af128>"
      ]
     },
     "execution_count": 22,
     "metadata": {},
     "output_type": "execute_result"
    },
    {
     "data": {
      "image/png": "[encoded data removed]",
      "text/plain": [
       "<Figure size 432x288 with 1 Axes>"
      ]
     },
     "metadata": {
      "needs_background": "light"
     },
     "output_type": "display_data"
    }
   ],
   "source": [
    "most_job_ads.head(10).sort_values('jobpost').plot(kind='barh')"
   ]
  },
  {
   "cell_type": "code",
   "execution_count": 23,
   "metadata": {},
   "outputs": [
    {
     "name": "stdout",
     "output_type": "stream",
     "text": [
      "Total number of job posts in the past 2 years: 3984\n",
      "Company with the most number of job posts in the past 2 years: Mentor Graphics Development Services CJSC\n",
      "----------------------------------------\n",
      "Number of job posts: 82 (2.1% of total)\n"
     ]
    }
   ],
   "source": [
    "print(f'Total number of job posts in the past 2 years: {total_jobposts}')\n",
    "print(f'Company with the most number of job posts in the past 2 years: {top_company}')\n",
    "print('-'*40)\n",
    "print('Number of job posts: {} ({:.1f}% of total)'.format(top_jobposts,top_jobposts/total_jobposts*100))"
   ]
  },
  {
   "cell_type": "markdown",
   "metadata": {},
   "source": [
    "#### Identify the month with the largest number of job ads over the years "
   ]
  },
  {
   "cell_type": "markdown",
   "metadata": {},
   "source": [
    "Period: 2004 - 2015"
   ]
  },
  {
   "cell_type": "code",
   "execution_count": 30,
   "metadata": {},
   "outputs": [],
   "source": [
    "month_jobpost = df.groupby('Month').agg({'jobpost':'count'})\n",
    "month_max = month_jobpost['jobpost'].idxmax()\n",
    "max_jobpost = month_jobpost.loc[month_max,:][0]"
   ]
  },
  {
   "cell_type": "code",
   "execution_count": 31,
   "metadata": {},
   "outputs": [
    {
     "data": {
      "text/plain": [
       "<matplotlib.axes._subplots.AxesSubplot at 0x2b99a4bab00>"
      ]
     },
     "execution_count": 31,
     "metadata": {},
     "output_type": "execute_result"
    },
    {
     "data": {
      "image/png": "[encoded data removed]",
      "text/plain": [
       "<Figure size 432x288 with 1 Axes>"
      ]
     },
     "metadata": {
      "needs_background": "light"
     },
     "output_type": "display_data"
    }
   ],
   "source": [
    "month_jobpost.plot(kind='bar')"
   ]
  },
  {
   "cell_type": "code",
   "execution_count": 32,
   "metadata": {},
   "outputs": [
    {
     "name": "stdout",
     "output_type": "stream",
     "text": [
      "Month with largest number of job ads over the years: March\n"
     ]
    }
   ],
   "source": [
    "print('Month with largest number of job ads over the years: {}'.format(dt.date(2000, month_max, 1).strftime('%B')))"
   ]
  },
  {
   "cell_type": "markdown",
   "metadata": {},
   "source": [
    "#### Clean text and generate new text from Job Responsibilities column: The new text shall not contain any stop words, and the plural words shall be converted into singular words."
   ]
  },
  {
   "cell_type": "code",
   "execution_count": 35,
   "metadata": {},
   "outputs": [],
   "source": [
    "def clean_text(x):\n",
    "    \n",
    "    if pd.isna(x):\n",
    "        return np.nan\n",
    "    \n",
    "    else:\n",
    "        new_words = list()\n",
    "\n",
    "        # tokenize only characters, symbols will be excluded\n",
    "        tokenizer = nltk.RegexpTokenizer(r'\\w+')\n",
    "        words = [i.lower() for i in tokenizer.tokenize(x)]\n",
    "\n",
    "        # exclude stop words\n",
    "        ls_stopwords = set(nltk.corpus.stopwords.words('english'))\n",
    "        words = [i for i in words if i not in ls_stopwords]\n",
    "\n",
    "        # lemmatize all the words with POS\n",
    "        wnl = nltk.WordNetLemmatizer()\n",
    "        for word, tag in nltk.pos_tag(words):\n",
    "            if tag.startswith(\"NN\"):\n",
    "                new_words.append(wnl.lemmatize(word, pos='n'))\n",
    "            elif tag.startswith('VB'):\n",
    "                new_words.append(wnl.lemmatize(word, pos='v'))\n",
    "            elif tag.startswith('JJ'):\n",
    "                new_words.append(wnl.lemmatize(word, pos='a'))\n",
    "            else:\n",
    "                new_words.append(word)\n",
    "\n",
    "        return ' '.join(i for i in new_words)"
   ]
  },
  {
   "cell_type": "code",
   "execution_count": 36,
   "metadata": {},
   "outputs": [],
   "source": [
    "df['Job Responsibilities_cleaned'] = df['Job Responsibilities'].map(lambda x: clean_text(x))"
   ]
  },
  {
   "cell_type": "code",
   "execution_count": 210,
   "metadata": {},
   "outputs": [
    {
     "name": "stdout",
     "output_type": "stream",
     "text": [
      "EXAMPLE: JOB POST 1\n",
      "----------------------------------------\n",
      "ORIGINAL\n",
      "- Presenting the CC program to interested parties; - Assisting in planning and scheduling of programmatic meetings and events (this includes coordinating logistics for CC staff, visitors and participants); - Assisting the Program Staff; - Translation/Interpretation from Armenian to English and vice versa; - Helping create, maintain and update the CC filing system and databases; - Completing general administrative tasks for the CC program within the office; - Other duties as assigned/ needed.\n",
      "----------------------------------------\n",
      "PROCESSED\n",
      "present cc program interested party assist plan schedule programmatic meeting event include coordinate logistics cc staff visitor participant assist program staff translation interpretation armenian english vice versa help create maintain update cc filing system databases complete general administrative task cc program within office duty assign need\n"
     ]
    }
   ],
   "source": [
    "jobpostnum = 0\n",
    "print(f'EXAMPLE: JOB POST {jobpostnum}')\n",
    "print('-'*40)\n",
    "print('ORIGINAL')\n",
    "print(df['Job Responsibilities'][jobpostnum])\n",
    "print('-'*40)\n",
    "print('PROCESSED')\n",
    "print(df['Job Responsibilities_cleaned'][jobpostnum])"
   ]
  },
  {
   "cell_type": "markdown",
   "metadata": {},
   "source": [
    "#### Write functions to identify null/NA values and to replace null/NA values with a custom message in “Duration” column "
   ]
  },
  {
   "cell_type": "markdown",
   "metadata": {},
   "source": [
    "Do not quite understand the question and require further clarification:\n",
    "* is there a custom message in \"Duration\" column?\n",
    "* replace null/NA in \"Duration\" column only? Do other columns require null/NA replacement too?"
   ]
  },
  {
   "cell_type": "code",
   "execution_count": 675,
   "metadata": {},
   "outputs": [],
   "source": [
    "def identify_duration(jobpost, duration, c):\n",
    "    if pd.isna(duration):\n",
    "        x = jobpost\n",
    "        return extract_info(x,['TERM','WORK HOURS'],c)\n",
    "    else:\n",
    "        return duration"
   ]
  },
  {
   "cell_type": "code",
   "execution_count": 676,
   "metadata": {
    "scrolled": true
   },
   "outputs": [
    {
     "name": "stderr",
     "output_type": "stream",
     "text": [
      "C:\\Users\\ngwge\\Anaconda3\\lib\\site-packages\\ipykernel_launcher.py:49: DeprecationWarning: Flags not at the start of the expression 'WORK HOURS:((?s).*)J' (truncated)\n",
      "C:\\Users\\ngwge\\Anaconda3\\lib\\site-packages\\ipykernel_launcher.py:49: DeprecationWarning: Flags not at the start of the expression 'WORK HOURS:((?s).*)N' (truncated)\n",
      "C:\\Users\\ngwge\\Anaconda3\\lib\\site-packages\\ipykernel_launcher.py:49: DeprecationWarning: Flags not at the start of the expression 'TERM:((?s).*)LOCATIO' (truncated)\n",
      "C:\\Users\\ngwge\\Anaconda3\\lib\\site-packages\\ipykernel_launcher.py:49: DeprecationWarning: Flags not at the start of the expression 'TERM:((?s).*)OPEN TO' (truncated)\n",
      "C:\\Users\\ngwge\\Anaconda3\\lib\\site-packages\\ipykernel_launcher.py:49: DeprecationWarning: Flags not at the start of the expression 'TERM:((?s).*)START D' (truncated)\n",
      "C:\\Users\\ngwge\\Anaconda3\\lib\\site-packages\\ipykernel_launcher.py:49: DeprecationWarning: Flags not at the start of the expression 'TERM:((?s).*)INTENDE' (truncated)\n",
      "C:\\Users\\ngwge\\Anaconda3\\lib\\site-packages\\ipykernel_launcher.py:49: DeprecationWarning: Flags not at the start of the expression 'TERM:((?s).*)ASAP\\r\\nL' (truncated)\n",
      "C:\\Users\\ngwge\\Anaconda3\\lib\\site-packages\\ipykernel_launcher.py:49: DeprecationWarning: Flags not at the start of the expression 'TERM:((?s).*)ASAP\\r\\nI' (truncated)\n",
      "C:\\Users\\ngwge\\Anaconda3\\lib\\site-packages\\ipykernel_launcher.py:49: DeprecationWarning: Flags not at the start of the expression 'TERM:((?s).*)ASAP\\r\\nO' (truncated)\n",
      "C:\\Users\\ngwge\\Anaconda3\\lib\\site-packages\\ipykernel_launcher.py:49: DeprecationWarning: Flags not at the start of the expression 'TERM:((?s).*)ASAP\\r\\n\\r' (truncated)\n"
     ]
    }
   ],
   "source": [
    "compiler = re.compile(r'\\s+([A-Z/\\s]*\\s{0,1}[A-Z]{3,}):')\n",
    "df['Position Duration_new'] = df.apply(lambda x: identify_duration(x['jobpost'],x['Position Duration'],compiler), 1)"
   ]
  },
  {
   "cell_type": "code",
   "execution_count": 677,
   "metadata": {},
   "outputs": [
    {
     "name": "stdout",
     "output_type": "stream",
     "text": [
      "# of null values before this step: 8194\n",
      "# of null values after the search for job duration: 6164\n",
      "Identified and replaced 2030 unknown duration with custom messages\n"
     ]
    }
   ],
   "source": [
    "null_before = df['Position Duration'].isnull().sum()\n",
    "null_after = df['Position Duration_new'].isnull().sum()\n",
    "print('# of null values before this step:',null_before)\n",
    "print('# of null values after the search for job duration:',null_after)\n",
    "print(f'Identified and replaced {null_before-null_after} unknown duration with custom messages')"
   ]
  },
  {
   "cell_type": "markdown",
   "metadata": {},
   "source": [
    "#### Store the results in a new Dataframe/SQL table(s) "
   ]
  },
  {
   "cell_type": "code",
   "execution_count": 680,
   "metadata": {},
   "outputs": [],
   "source": [
    "df.to_csv('data_output.csv', index=False)"
   ]
  },
  {
   "cell_type": "markdown",
   "metadata": {},
   "source": [
    "## Q3 Semantic Similarity"
   ]
  },
  {
   "cell_type": "code",
   "execution_count": 627,
   "metadata": {},
   "outputs": [],
   "source": [
    "from gensim.utils import to_unicode\n",
    "from gensim.models.doc2vec import TaggedDocument, Doc2Vec"
   ]
  },
  {
   "cell_type": "code",
   "execution_count": 450,
   "metadata": {},
   "outputs": [],
   "source": [
    "# clean 'Job Description', 'Job Title' and 'Required Qualifications' for performing word embedding\n",
    "df['Job Title_cleaned'] = df['Job Title'].map(lambda x: clean_text(x))\n",
    "df['Job Description_cleaned'] = df['Job Description'].map(lambda x: clean_text(x))\n",
    "df['Required Qualifications_cleaned'] = df['Required Qualifications'].map(lambda x: clean_text(x))"
   ]
  },
  {
   "cell_type": "code",
   "execution_count": 462,
   "metadata": {},
   "outputs": [],
   "source": [
    "# get unique jobposts as the inputs, as current dataset contains some duplicated job posts with different posting time\n",
    "df_unique = df[~df.duplicated('jobpost')]\n",
    "\n",
    "# fill na with ' ', if there is any\n",
    "df_unique = df_unique.fillna(' ')"
   ]
  },
  {
   "cell_type": "code",
   "execution_count": 630,
   "metadata": {},
   "outputs": [],
   "source": [
    "d_inputs = {}\n",
    "d_inputs['X_1'] = np.array(df_unique['Job Responsibilities_cleaned'])\n",
    "d_inputs['X_3'] = np.array(df_unique['Job Description_cleaned'])"
   ]
  },
  {
   "cell_type": "code",
   "execution_count": null,
   "metadata": {},
   "outputs": [],
   "source": [
    "# Performing Doc2Vec might take some times, alternatively, these trained models\n",
    "# that have been backed up as zipped pickle file (\"models_backup.gz\") can be \n",
    "# retrieved with function retrieve_data in the next 2 cells\n",
    "\n",
    "d_models = {}\n",
    "\n",
    "for k,v in d_inputs.items():\n",
    "    print('Working on',k,'-'*60)\n",
    "    tagged = []\n",
    "    docs_map = {}\n",
    "    for idx,jobpost in enumerate(v):\n",
    "        tag = u'JOBPOST_{:d}'.format(idx)\n",
    "        sentence = TaggedDocument(words=to_unicode(jobpost).split(), tags=[tag])\n",
    "        tagged.append(sentence)\n",
    "        docs_map[tag] = jobpost\n",
    "        \n",
    "    model = Doc2Vec(tagged, dm=0, alpha=0.025, vector_size=20, min_alpha=0.025, min_count=0, epochs=100)\n",
    "    for epoch in range(model.epochs):\n",
    "        if epoch%20 ==0:\n",
    "            print('Training epoch',epoch)\n",
    "            model.train(tagged,total_examples=model.corpus_count,epochs=model.epochs)\n",
    "            model.alpha -= 0.002\n",
    "    model.min_alpha = model.alpha\n",
    "    \n",
    "    d_models[k] = {'model':model, 'tagged':tagged, 'mapping':docs_map}"
   ]
  },
  {
   "cell_type": "code",
   "execution_count": 632,
   "metadata": {},
   "outputs": [],
   "source": [
    "import pickle\n",
    "import zlib\n",
    "\n",
    "def backup_data(d, name, path='./'):\n",
    "    print('Backup data: {}..'.format(name))\n",
    "    with open('{}.gz'.format(path+name), 'wb') as handle:\n",
    "        handle.write(zlib.compress(pickle.dumps(d, protocol=pickle.HIGHEST_PROTOCOL),9))\n",
    "        \n",
    "def retrieve_data(name, path='./'):\n",
    "    print('Retrieve data: {}..'.format(name))\n",
    "    with open('{}.gz'.format(path+name), 'rb') as handle:\n",
    "        d = zlib.decompress(handle.read())\n",
    "        return pickle.loads(d)"
   ]
  },
  {
   "cell_type": "code",
   "execution_count": 633,
   "metadata": {},
   "outputs": [
    {
     "name": "stdout",
     "output_type": "stream",
     "text": [
      "Backup data: models_backup..\n"
     ]
    }
   ],
   "source": [
    "backup_data(d_models, 'models_backup')"
   ]
  },
  {
   "cell_type": "code",
   "execution_count": 641,
   "metadata": {},
   "outputs": [
    {
     "name": "stdout",
     "output_type": "stream",
     "text": [
      "Retrieve data: models_backup..\n"
     ]
    }
   ],
   "source": [
    "d_models = retrieve_data('models_backup')"
   ]
  },
  {
   "cell_type": "code",
   "execution_count": 642,
   "metadata": {},
   "outputs": [
    {
     "name": "stdout",
     "output_type": "stream",
     "text": [
      "JOB POST: JOBPOST_5\n",
      "saleswoman sell menswear accessory\n",
      "\n",
      "SIMILAR POST (0.747): JOBPOST_18656\n",
      "shop assistant responsible merchandising sale jewellery accessory\n"
     ]
    }
   ],
   "source": [
    "# sense check on some examples\n",
    "# X_1 - Job Responsibilities\n",
    "# X_3 - Job Description\n",
    "\n",
    "model = d_models['X_3']['model']\n",
    "tagged = d_models['X_3']['tagged']\n",
    "docs_map = d_models['X_3']['mapping']\n",
    "\n",
    "check_id = 'JOBPOST_5'\n",
    "inferred_vec = model.infer_vector(tagged[int(check_id.split('_')[1])].words)\n",
    "sim_vec = model.docvecs.most_similar([inferred_vec], topn=len(model.docvecs))\n",
    "# jobpost_id, _ = similarity_vec[0]\n",
    "jobpost_id_topmatch, score = sim_vec[1]\n",
    "\n",
    "print('JOB POST: {}\\n{}'.format(check_id, docs_map[check_id]))\n",
    "print('\\nSIMILAR POST ({:.3f}): {}\\n{}'.format(score, jobpost_id_topmatch, docs_map[jobpost_id_topmatch]))"
   ]
  },
  {
   "cell_type": "code",
   "execution_count": 643,
   "metadata": {},
   "outputs": [],
   "source": [
    "from sklearn.cluster import Birch, DBSCAN, KMeans\n",
    "from sklearn import metrics\n",
    "from collections import Counter"
   ]
  },
  {
   "cell_type": "code",
   "execution_count": 644,
   "metadata": {},
   "outputs": [],
   "source": [
    "# compile input from X_1 (Responsibilities) and X_3 (Job Description) for performing clustering\n",
    "\n",
    "X_clustering = None\n",
    "for k,v in d_models.items():\n",
    "    model = v['model']\n",
    "    tagged = v['tagged']\n",
    "    if X_clustering is None:\n",
    "        inferred = [model.infer_vector(i.words) for i in tagged]\n",
    "        X_clustering = inferred\n",
    "    else:\n",
    "        inferred = [model.infer_vector(i.words) for i in tagged]\n",
    "        X_clustering = [np.concatenate((i,inferred[idx])) for idx,i in enumerate(X_clustering)]"
   ]
  },
  {
   "cell_type": "code",
   "execution_count": 604,
   "metadata": {},
   "outputs": [],
   "source": [
    "# clus_model = DBSCAN(eps=0.8, min_samples=10).fit(X_clustering)\n",
    "# labels = clus_model.labels_"
   ]
  },
  {
   "cell_type": "code",
   "execution_count": 647,
   "metadata": {},
   "outputs": [
    {
     "name": "stdout",
     "output_type": "stream",
     "text": [
      "Silhouette score: -0.024393538013100624\n",
      "Silhouette score: -0.008219313807785511\n",
      "Silhouette score: -0.01489957794547081\n",
      "Silhouette score: -0.020745614543557167\n",
      "Silhouette score: -0.028584115207195282\n"
     ]
    }
   ],
   "source": [
    "for nclus in [5,15,35,65,95]:\n",
    "    clus_model = KMeans(n_clusters=nclus,max_iter=800)\n",
    "    clus_model.fit(X_clustering)\n",
    "    labels = clus_model.labels_\n",
    "    score = silhouette_score(X_clustering, labels, metric='euclidean')\n",
    "    print('Silhouette score: {}'.format(score))"
   ]
  },
  {
   "cell_type": "code",
   "execution_count": 646,
   "metadata": {},
   "outputs": [
    {
     "name": "stdout",
     "output_type": "stream",
     "text": [
      "Cluster Number: 5\tThreshold: 0.3\n",
      "Silhouette score: -0.02995939925312996\n",
      "Cluster Number: 5\tThreshold: 0.6\n",
      "Silhouette score: -0.03470129892230034\n",
      "Cluster Number: 15\tThreshold: 0.3\n",
      "Silhouette score: -0.021071765571832657\n",
      "Cluster Number: 15\tThreshold: 0.6\n",
      "Silhouette score: -0.019556401297450066\n",
      "Cluster Number: 35\tThreshold: 0.3\n",
      "Silhouette score: -0.036954622715711594\n",
      "Cluster Number: 35\tThreshold: 0.6\n",
      "Silhouette score: -0.02941192127764225\n",
      "Cluster Number: 55\tThreshold: 0.3\n",
      "Silhouette score: -0.03157126158475876\n",
      "Cluster Number: 55\tThreshold: 0.6\n",
      "Silhouette score: -0.02072286792099476\n"
     ]
    }
   ],
   "source": [
    "# grid_search_nclus = [5,15,35,55]\n",
    "# grid_search_thres = [0.3,0.6]\n",
    "\n",
    "# for nclus in grid_search_nclus:\n",
    "#     for thres in grid_search_thres:\n",
    "#         clus_model = Birch(branching_factor=50, n_clusters=nclus, threshold=thres, compute_labels=True)\n",
    "#         clus_model.fit(X_clustering)\n",
    "#         labels = clus_model.labels_\n",
    "#         print('Cluster Number: {}\\tThreshold: {}'.format(nclus,thres))\n",
    "#         score = silhouette_score(X_clustering, labels, metric='euclidean')\n",
    "#         print('Silhouette score: {}'.format(score))"
   ]
  },
  {
   "cell_type": "code",
   "execution_count": 650,
   "metadata": {},
   "outputs": [],
   "source": [
    "clus_model = KMeans(n_clusters=15,max_iter=800)\n",
    "clus_model.fit(X_clustering)\n",
    "labels = clus_model.labels_"
   ]
  },
  {
   "cell_type": "code",
   "execution_count": 651,
   "metadata": {
    "scrolled": true
   },
   "outputs": [
    {
     "name": "stdout",
     "output_type": "stream",
     "text": [
      "Estimated number of clusters: 15\n",
      "Estimated number of noise points: 0\n",
      "Silhouette Coefficient: -0.035\n",
      "Counter({9: 1996, 14: 1991, 6: 1976, 5: 1974, 1: 1679, 12: 1429, 3: 1368, 4: 1309, 11: 1216, 13: 1057, 0: 946, 10: 627, 2: 570, 8: 522, 7: 232})\n"
     ]
    }
   ],
   "source": [
    "# Number of clusters in labels, ignoring noise if present.\n",
    "n_clusters_ = len(set(labels)) - (1 if -1 in labels else 0)\n",
    "n_noise_ = list(labels).count(-1)\n",
    "\n",
    "print('Estimated number of clusters: %d' % n_clusters_)\n",
    "print('Estimated number of noise points: %d' % n_noise_)\n",
    "print(\"Silhouette Coefficient: %0.3f\" % metrics.silhouette_score(X_clustering, labels))\n",
    "print(Counter(labels))"
   ]
  },
  {
   "cell_type": "code",
   "execution_count": 655,
   "metadata": {},
   "outputs": [
    {
     "data": {
      "text/plain": [
       "Index(['jobpost', 'date', 'Title', 'Company', 'AnnouncementCode', 'Term',\n",
       "       'Eligibility', 'Audience', 'StartDate', 'Duration', 'Location',\n",
       "       'JobDescription', 'JobRequirment', 'RequiredQual', 'Salary',\n",
       "       'ApplicationP', 'OpeningDate', 'Deadline', 'Notes', 'AboutC', 'Attach',\n",
       "       'Year', 'Month', 'IT', 'Job Title', 'Position Duration',\n",
       "       'Position Location', 'Job Description', 'Job Responsibilities',\n",
       "       'Required Qualifications', 'Remuneration', 'Application Deadline',\n",
       "       'About Company', 'Job Responsibilities_cleaned', 'Job Title_cleaned',\n",
       "       'Job Description_cleaned', 'Required Qualifications_cleaned'],\n",
       "      dtype='object')"
      ]
     },
     "execution_count": 655,
     "metadata": {},
     "output_type": "execute_result"
    }
   ],
   "source": [
    "df_unique.columns"
   ]
  },
  {
   "cell_type": "code",
   "execution_count": 660,
   "metadata": {},
   "outputs": [
    {
     "name": "stdout",
     "output_type": "stream",
     "text": [
      "Top group/cluster: 9\n",
      "Number of job ads within the cluster: 1996\n",
      "This group consists of 1707 or 85.5% IT related jobs\n"
     ]
    }
   ],
   "source": [
    "max_label = Counter(labels).most_common()[0][0]\n",
    "filtering = labels==max_label\n",
    "it_related = df_unique[filtering]['IT'].sum()\n",
    "print('Top group/cluster:',max_label)\n",
    "print('Number of job ads within the cluster:',filtering.sum())\n",
    "print('This group consists of {} or {:.1f}% IT related jobs'.format(it_related,it_related/filtering.sum()*100))"
   ]
  },
  {
   "cell_type": "markdown",
   "metadata": {},
   "source": [
    "The silhouette score is negative, indicating poor clustering results. The clustering model still has huge room for improvement and the input embedded vectors could be part of the fine tuning."
   ]
  },
  {
   "cell_type": "markdown",
   "metadata": {},
   "source": [
    "## Q4 Music and Artists"
   ]
  },
  {
   "cell_type": "code",
   "execution_count": 73,
   "metadata": {},
   "outputs": [],
   "source": [
    "from urllib.request import urlopen, Request\n",
    "from bs4 import BeautifulSoup"
   ]
  },
  {
   "cell_type": "markdown",
   "metadata": {},
   "source": [
    "#### Extract raw text from https://en.wikipedia.org/wiki/1990s_in_music "
   ]
  },
  {
   "cell_type": "code",
   "execution_count": 305,
   "metadata": {},
   "outputs": [],
   "source": [
    "url = 'https://en.wikipedia.org/wiki/1990s_in_music'\n",
    "req = Request(url)\n",
    "response = urlopen(req)"
   ]
  },
  {
   "cell_type": "code",
   "execution_count": 306,
   "metadata": {},
   "outputs": [],
   "source": [
    "soup = BeautifulSoup(response.read())"
   ]
  },
  {
   "cell_type": "code",
   "execution_count": 307,
   "metadata": {},
   "outputs": [],
   "source": [
    "all_p = soup.find_all('p')"
   ]
  },
  {
   "cell_type": "code",
   "execution_count": 308,
   "metadata": {},
   "outputs": [],
   "source": [
    "raw_text = ''''''\n",
    "for i in all_p:\n",
    "    raw_text = raw_text + ' ' + i.get_text()"
   ]
  },
  {
   "cell_type": "code",
   "execution_count": 309,
   "metadata": {
    "scrolled": true
   },
   "outputs": [
    {
     "name": "stdout",
     "output_type": "stream",
     "text": [
      " \n",
      " Popular music in the 1990s  saw the continuation of teen pop and dance-pop trends which had emerged in the 1970s and 1980s. Furthermore, hip hop grew and continued to be highly successful in the decade, with the continuation of the genre's golden age. Aside from rap, reggae, contemporary R&B and urban music in general remained extremely popular throughout the decade; urban music in the late-1980s and 1990s often blended with styles such as soul, funk and jazz, resulting in fusion genres such as new jack swing, neo-soul, hip hop soul and g-funk which were popular.\n",
      " Similarly to the 1980s, rock music was also very popular in the 1990s, yet, unlike the new wave and glam metal-dominated scene of the time, grunge,[1] Britpop, industrial rock and other alternative rock music emerged and took over as the most popular of the decade, as well as punk rock, ska punk and nu metal, amongst others, which attained a high level of success at different points throughout the years. Electronic music, which had risen in popularity in the 1980s, grew highly popular in the 1990s; house and techno from the 1980s rose to international success in this decade, as well as new electronic dance music genres such as Rave, happy hardcore, drum and bass, intelligent dance and trip hop. In Europe, Techno, Rave and Reggae music were highly successful,[2] while also finding some international success. The decade also featured the rise of contemporary country music as a major genre, which had started in the 1980s.[3]\n",
      " The 1990s also saw a resurgence of older styles in new contexts, including third wave ska and swing revival, both of which featured a fusion of horn-based music with rock music elements.\n",
      " Reflecting on the decade's musical developments in Christgau's Consumer Guide: Albums of the '90s (2000), music critic Robert Christgau said the 1990s were \"richly chaotic, unknowable\", and \"highly subject to vagaries of individual preference\", yet \"conducive to some manageable degree of general comprehension and enjoyment by any rock and roller.\"[4]\n",
      " With the breakthrough of bands such as Nirvana and the popularity of the grunge and Britpop movements in the 1990s, alternative rock entered the musical mainstream and many alternative bands became commercially successful during the 1990s.\n",
      " By the start of the 1990s, the music industry was enticed by alternative rock's commercial possibilities and major labels actively courted bands including Alice in Chains, Pearl Jam, Jane's Addiction, Dinosaur Jr, and Nirvana.[5] In particular, R.E.M.'s success had become a blueprint for many alternative bands in the late 1980s and 1990s to follow; the group had outlasted many of its contemporaries and by the 1990s had become one of the most popular bands in the world.[6]\n",
      " The Red Hot Chili Peppers became an important band in the rise of alternative rock with their album Blood Sugar Sex Magik. Combining funk rock with more conventional rock music, the Red Hot Chili Peppers were able to achieve mainstream success, culminating with the release of their 1999 album Californication.\n",
      " Oasis was a massively popular Britpop band at the forefront of alternative rock. From their release of \"Definitely Maybe\" in 1994, through to \"What's the Story Morning Glory?\" in 1995, Oasis enjoyed international success throughout the 1990s. These albums included hugely popular songs such as Slide Away, Wonderwall and Don't Look Back in Anger. Wonderwall peaked at number 2 in the UK Singles charts, and number 8 in the US Billboard 100.\n",
      " Some of the top mainstream American alternative rock bands of the 1990s included Hootie and The Blowfish, Collective Soul, Creed, Nirvana, Alice in Chains, Dinosaur Jr, The Mighty Mighty Bosstones, Green Day, Weezer, The Offspring, Matchbox Twenty, Red Hot Chili Peppers, Soul Asylum, Liz Phair, The Lemonheads, R.E.M., Soundgarden, Live, Counting Crows, Spin Doctors, dc Talk, Goo Goo Dolls, Third Eye Blind, The Smashing Pumpkins, 4 Non Blondes, Beck, The Breeders, Foo Fighters, Sublime, No Doubt, Hole, Cake, Blind Melon, Stone Temple Pilots, Garbage, and Pearl Jam. These bands were variously influenced by ska, punk, pop, metal, and many other musical genres.\n",
      " During the early 90s a new style of alternative music emerged, which combined elements of alternative rock with heavy metal. This new genre, dubbed \"alternative metal\", is considered a precursor to the nu metal movement of the late 90s. This style was typified by bands such as Tool, Helmet and Jane's Addiction. Other bands including Faith No More, Primus, Red Hot Chili Peppers and Rage Against the Machine also blended funk & hip hop elements, creating subgenres of this style such as funk metal and rap metal.\n",
      " A subgenre of alternative rock, grunge bands were massively popular during the early 1990s. Grunge music, and its associated subculture, was born out of the Pacific Northwest American states of Washington and Oregon in the 1980s.[7] Artists such as Nirvana, Soundgarden, Alice in Chains and Pearl Jam brought alternative rock to popularity in 1991. However, many bands were uncomfortable with their success, and were equally suspicious of the grunge label.\n",
      " Nirvana and their grunge contemporaries, such as Pearl Jam, delivered a more direct, less polished rock sound. Pearl Jam released its debut album, Ten, a month before Nevermind in 1991, but sales only picked up a year later. By the second half of 1992, Ten became a breakthrough success, being certified gold and reaching number two on the Billboard 200 album chart.[8] Pearl Jam were famous for their fusion of riff-heavy stadium rock with the grit and anger of post-punk and grunge.\n",
      " During the mid-1990s, many grunge bands broke up or became less visible. The death of Kurt Cobain in early 1994, as well as the touring problems for Pearl Jam (due to the band's much-publicized boycott of Ticketmaster), marked the decline of the genre.[9]\n",
      "   At the same time as the original grunge bands went into decline, major record labels began signing and promoting bands that were emulating the genre.[10] The term post-grunge was coined to describe these bands, who emulated the attitudes and music of grunge, particularly thick, distorted guitars, but with a more radio-friendly commercially oriented sound.[11]\n",
      " In 1995, former Nirvana drummer Dave Grohl's new band, the Foo Fighters, helped popularize the genre and define its parameters, becoming one of the most commercially successful rock bands in the US, aided by considerable airplay on MTV.[12] Some of the most successful post-grunge acts of the 90s were Candlebox, Bush, Collective Soul, Creed, Matchbox Twenty, Our Lady Peace, Foo Fighters, Live and others. The genre would have another wave of successful acts throughout much of the early part of the next decade which includes bands like Nickelback, Creed, Lifehouse, 3 Doors Down, and more. Although, some of those bands were formed during the late 1990s, many would not see a commercial breakthrough until the early years of the following decade.\n",
      " Following the immense success of alternative rock in the 1990s, the term \"indie rock\" became associated with the bands and genres that remained underground. Bands like Sonic Youth and Pixies set the stage for the rise of indie rock in the underground scene, with bands such as Pavement, Archers of Loaf, Sleater-Kinney, Built to Spill, Yo La Tengo, The Breeders, Superchunk, Dinosaur Jr., Cat Power, Guided by Voices, Sebadoh, The Jesus Lizard, Liz Phair, and The Flaming Lips gaining popularity throughout the decade.\n",
      " By the late 1990s, mainstream interest in third wave ska bands such as Reel Big Fish, The Mighty Mighty Bosstones, Sublime, and No Doubt waned as other music genres gained momentum.[13]\n",
      " Punk rock in the United States underwent a resurgence in the early to mid-1990s. Punk rock at that time was not commercially viable, and no major record label signed a punk rock band until Green Day's breakthrough in 1994. Both these factors contributed to the emergence of a number of independent record labels, often run by people in bands in order to release their own music and that of their friends. The independent labels Lookout! Records, Fat Wreck Chords and Epitaph Records achieved commercial success.\n",
      " Skate punk broke into the mainstream in the mid-1990s, initially with the Northern California-based skate punk band Green Day and in the late 1990s with the Southern California-based pop punk band Blink-182 as well who all achieved massive worldwide commercial success. Green Day's album Dookie (1994) sold 10 million copies in the United States and another 10 million copies worldwide. Soon after the release of Dookie, The Offspring released the album Smash. The album sold over 14 million copies worldwide, setting a record for most albums sold on an independent label. \n",
      "[14] Rancid's Let's Go and NOFX's Punk in Drublic were also released during this period and both of them went gold as well. By the end of the year, Dookie and Smash had sold millions of copies.[15] The commercial success of these two albums attracted major label interest in skate/pop punk, with bands such as Bad Religion being offered lucrative contracts to leave their independent record labels. In 1999, Blink-182 made a breakthrough with the release of Enema of the State, which sold over 15 million copies worldwide receiving multi-platinum status in the United States, Canada, Australia, Italy, New Zealand and platinum status in Europe and the United Kingdom. Green Day are seen as the biggest act in punk rock whilst Blink-182 are seen to have the most influence on later bands like Fall Out Boy and All Time Low.\n",
      " Many subgenres of metal developed outside of the commercial mainstream during the 1980s.[16] In the early 1990s the thrash metal genre achieved break-out success, mainly due to the massive success of Metallica's eponymous 5th album which was released in 1991 and brought thrash metal to the mainstream for the first time. Metallica's success was followed by Megadeth's Countdown to Extinction (1992) which hit number 2,[17] Anthrax, Pantera, and Slayer cracked the top 10,[18] and albums by regional bands such as Testament and Sepultura entered the top 100.[19]\n",
      " In the later half of the decade industrial metal became popular. The top mainstream American industrial metal bands of the 1990s included Nine Inch Nails, Marilyn Manson, White Zombie, KMFDM, Ministry, and Fear Factory.\n",
      " In the 1990s, there was a revival of the singer-songwriter movement of the 1970s. This movement lasted up to about 2004 with artists like Norah Jones, Dido and Sarah McLachlan. Important artists of this movement include Alanis Morissette, Tori Amos, Fiona Apple, Liz Phair, Juliana Hatfield, Edwin McCain, Jewel, Natalie Merchant, Sheryl Crow and Lisa Loeb. Perhaps the most important album of the movement was the multi-platinum 1995 album Jagged Little Pill by Alanis Morissette as well as Sheryl Crow's 1993 album Tuesday Night Music Club and her 1996 eponymous album.[20]\n",
      " The trend ended in the late 1990s with Lynda Thomas, who became the first idol of the \"teen pop-rock\" movement,[21] which later in the 2000s reached its highest level of popularity with later singers such as Avril Lavigne, Kelly Clarkson, P!nk, Hilary Duff, and Ashlee Simpson.[citation needed]\n",
      " Also in the 1990s, artists such as Jeff Buckley, Dave Matthews, Shania Twain, Bryan Adams, Elliott Smith, Melissa Etheridge, as well as Sheryl Crow borrowed from the singer-songwriter tradition to create new acoustic-based rock styles.\n",
      " Third wave glam metal artists such as Firehouse, Warrant, Extreme, Slaughter, and Skid Row experienced their greatest success at the start of the decade, but these bands' popularity waned after 1992 or so. Mötley Crüe and Poison, who were hugely popular in the 1980s, released successful albums in 1989 and 1990, respectively, and continued to benefit from that success in the early part of the decade. The Black Crowes ushered in a more classic rock 'n' roll sound with their successful debut in 1990. More well-established hard rock artists such as Guns N' Roses, Van Halen, Def Leppard, Ozzy Osbourne, and Tom Petty released successful albums and remained very popular in the first half of the decade, while Aerosmith, Bon Jovi, and Metallica maintained their popularity throughout the entire decade, largely by re-inventing themselves with each new album and exploring different sounds.\n",
      " Contemporary R&B and urban pop became popular throughout the 1990s, but was overshadowed by more pop-rock and dance music by the second half of the decade. Michael Jackson achieved continued critical and commercial success in the 1990s with his 1991 album Dangerous which sold 35 million copies and his 1995 follow-up HIStory which sold 40 millions units (20 million copies of the double disc set). Jackson's debut single \"Black or White\" from the former album was one of the best selling singles of the 1990s, and the debut single \"You Are Not Alone\" from the latter album became, on 2 September 1995, the first single to debut at number one on the Billboard Hot 100 chart. In 1997, Jackson released Blood on the Dance Floor: HIStory in the Mix which became the best-selling remix album of all time, a record it still holds with over six million copies sold.\n",
      " British girl group The Spice Girls managed to break the American market, becoming the most commercially successful British group in North America since The Beatles. Their impact brings about a widespread invasion of teen pop acts to the US charts which had been predominantly dominated by grunge and hip hop prior to the success of the group. Between 1997 and 2000 American teen pop singers and groups including Backstreet Boys, *NSYNC, 98 Degrees, Hanson, Christina Aguilera, Britney Spears, Jessica Simpson, Mandy Moore, Jennifer Lopez and Destiny's Child became popular, following the lead of The Spice Girls by targeting early members of Generation Y. At the end of the decade, Britney Spears and Christina Aguilera had huge successes with their hit singles, \"...Baby One More Time\" and \"Genie in a Bottle\" and respective debut albums which remain among the best selling of all time. Britney Spears's single/ album went onto the top of the US charts in early 1999.[22] \"Womanizer\" (Jive) was the second No. 1 hit for Spears after her debut single, \" ... Baby One More Time.\" Spears has the longest gap between No. 1 hits since Cher's \"Believe\" claimed pole position in March 1999, just 10 days shy of 25 years after \"Dark Lady\" landed in first place.\n",
      " Madonna's album Erotica was released in 1992 and became one of the most controversial albums to date. In 1998, she also had her most acclaimed album to date, Ray of Light, which has sold over 16 million copies worldwide. Cyndi Lauper released her first mature album Hat Full of Stars (1993), which leaves complete the image of her first two albums, but it is highly praised by critics even though it did not achieve commercial success. Larry Flick of Billboard called Janet Jackson's The Velvet Rope \"[t]he best American album of the year and the most empowering of her last five.\"[23] Released in October 1997, The Velvet Rope debuted at number one on the Billboard 200.[24] In August 1997, the album's lead single, \"Got 'til It's Gone\", was released to radio, peaking at number 12 on the Billboard Rhythmic Airplay Chart.[25] The single sampled the Joni Mitchell song \"Big Yellow Taxi\", and featured a cameo appearance by rapper Q-Tip. \"Got 'til It's Gone\" won the 1997 Grammy Award for Best Short Form Music Video.[26] The album's second single \"Together Again\", became her eighth number one hit on the Billboard Hot 100 singles chart, and placing her on par with Elton John, and The Rolling Stones.[27] The single spent a record 46 weeks on the Hot 100, as well as spending 19 weeks on the UK singles chart.[27] \"I Get Lonely\" peaked at number three on the Hot 100.[28] The Velvet Rope sold over ten million albums worldwide and was certified three times platinum by the RIAA.[29][30] Céline Dion achieving worldwide success with the song My Heart Will Go On from Titanic soundtrack.\n",
      " In the early 1990s, Mariah Carey's hit singles such as \"Vision of Love\" (1990) and \"Love Takes Time\" (1990), and Whitney Houston's \"All the Man That I Need\" (1990) and \"I Will Always Love You\" (1992) topped the radio charts for the adult contemporary format.[31]\n",
      " Whitney Houston's quiet storm hits included \"All the Man That I Need\" (1990) and \"I Will Always Love You\" (1992). Houston's \"I Will Always Love You\", a song from the 1992 hit film The Bodyguard, spent 14 weeks on top of the Billboard Hot 100 a record at the time, and sold over 40 million copies worldwide. It is the best selling single by a female act of all time. In the 1990s, Mariah Carey's career originated in quiet storm, with hit singles such as \"Vision of Love\" (1990) and \"Love Takes Time\" (1990). Her albums Music Box (1993) and Daydream (1995) are some of the best selling albums of all time, and had major R&B influences. Richard J. Ripani wrote that Carey and Houston, \"both of whom rely heavily on the gospel music vocal tradition, display an emphasis on melisma that increased in R&B generally over the 1980s and 1990s.\"[31] Carey's \"Vision of Love\" is considered to be an extreme example of the use of melisma and known for kick starting the entire melismatic trend in songs with female artists for the next 20 years. Beyoncé quoted the song to make her want to sing, as did many other popular artist.[31] Also during the early 1990s, Boyz II Men re-popularized classic soul-inspired vocal harmonies. Michael Jackson incorporated new jack swing into his 1991 album Dangerous, with sales over 35 million, and is the best selling album of the decade.[32][33]\n",
      " The popularity of the ballad and R&B leads to the development of a genre called Urban adult contemporary. Popular American contemporary R&B artists included Mariah Carey, Faith Evans, D'Angelo, Lauryn Hill, Whitney Houston, Sade, En Vogue, Toni Braxton, Boyz II Men, Mary J. Blige, Dru Hill, Vanessa L. Williams, Groove Theory, Bell Biv Devoe, Jodeci, Diana King, Tony! Toni! Tone!, Tara Kemp, Brownstone, Shanice, Usher, SWV, Silk, 702, Aaliyah, Keith Sweat, R. Kelly, TLC, Xscape, Blaque, Brandy, Monica, Mýa, Total and Tevin Campbell. In contrast to the works of Boyz II Men, Babyface and similar artists, other R&B artists from this same period began adding even more of a hip hop sound to their work. The synthesizer-heavy rhythm tracks of new jack swing was replaced by grittier East Coast hip hop-inspired backing tracks, resulting in a genre labelled hip hop soul by producer Sean Combs. The style became less popular by the end of the 1990s, but later experienced a resurgence.\n",
      " During the mid-1990s, Janet Jackson, Mariah Carey, Faith Evans, TLC, Xscape, Whitney Houston and Boyz II Men brought contemporary R&B to the masses.\n",
      " Jackson's self-titled fifth studio album janet. (1993), which came after her historic multimillion-dollar contract with Virgin Records, sold over twenty million copies worldwide. Houston, Boyz II Men and Carey recorded several Billboard Hot 100 No. 1 hits, including \"Exhale (Shoop Shoop)\", \"One Sweet Day\", a collaboration between Boyz II Men and Carey, which became the longest-running No. 1 hit in Hot 100 history. Carey, Boyz II Men and TLC released albums in 1994 and 1995—Daydream, II, and CrazySexyCool respectively – that sold over ten million copies, earning them diamond status in the U.S. Beginning in 1995, the Grammy Awards enacted the Grammy Award for Best R&B Album with II, and Boyz II Men became the first recipient. The award was later received by TLC for CrazySexyCool in 1996.\n",
      " Mariah Carey's duet with Boyz II Men \"One Sweet Day\" was pronounced song of the decade, charting at number one on the decade-end chart. Carey became Billboard's most successful female artist of the decade, and one of the most successful R&B acts of the 90s.\n",
      " R&B artists such as Janet Jackson, Michael Jackson, Whitney Houston and Mariah Carey are some of the best selling music artists of all time, and especially in the 1990s brought Contemporary R&B to a worldwide platform.\n",
      "  In the mid-1990s, neo soul, which added 1970s soul influences to the hip hop soul blend, arose, led by artists such as D'Angelo, Erykah Badu, Lauryn Hill, and Maxwell. Lauryn Hill and Missy Elliott further blurred the line between R&B and hip hop by recording both styles. D'Angelo's Brown Sugar was released in June 1995. Although sales were sluggish at first, the album was eventually a hit, due in large part to \"Lady,\" a top-ten hit on the Billboard Hot 100 charts, peaking at #10. The album earned platinum certification from the Recording Industry Association of America, for shipments of one million copies in the U.S.,[34][35] while its total sales have been estimated within the range of 1.5 million to over two million copies.[36][37][38] While the album was certified platinum in the United States, indicating shipments of one million units, its total sales were adversely reported by several publications with estimations ranging from 1.5 to 2 million units. The album helped give commercial visibility to the burgeoning Neo soul movement of the 1990s, along with debut albums by Maxwell, Erykah Badu, and Lauryn Hill. The album was a critical success as well and appeared on many critics' best-of lists that year.\n",
      " Hill's The Miseducation of Lauryn Hill (1998) remains her only studio album; it received critical acclaim, some suggesting it was the greatest neo-soul album of all time. It debuted at number one on the Billboard 200 and sold 19 million copies worldwide, spawning the singles \"Doo Wop (That Thing)\", \"Ex-Factor\", and \"Everything Is Everything\". At the 41st Grammy Awards, the album earned her five Grammy Awards, including the Album of the Year. Soon after, Hill dropped out of the public-eye, mainly because of her dissatisfaction with the music industry.\n",
      " The decade is notable for the extension of the rap music scene from New York City, the center of hip hop culture throughout the 1980s, to other cities like Los Angeles, Atlanta, Houston, the Bay Area, Miami, Chicago, and Memphis.\n",
      " Dr. Dre's 1992 album The Chronic provided a template for modern gangsta rap.[39] In addition to The Chronic, Dre introduced a new artist known as Snoop Dogg which allowed for their to be the success of Snoop's album, Doggystyle, in 1993. Due to the success of Death Row Records, West Coast hip hop dominated hip hop during the early 1990s, along with The Notorious B.I.G. on the East Coast.[40] Hip hop became the best selling music genre by the mid-1990s.[41][42]\n",
      " Rap albums released in the 1990s include Illmatic, All Eyez On Me, The Infamous, Enter the Wu-Tang (36 Chambers), Ready To Die, The Chronic, Aquemini, ATLiens, Operation: Doomsday, Ridin' Dirty, The Low End Theory, Liquid Swords, and Doggystyle.\n",
      " In 1998, Lauryn Hill released her debut album The Miseducation of Lauryn Hill, which debuted at number one on the Billboard 200. In 1999, The Miseducation was nominated for 10 Grammy's, winning five (which at the time was unheard of for a hip-hop artist) and eventually went on to sell over 19 million copies worldwide.[43]\n",
      " The early 1990s was dominated by female rappers, such as Queen Latifah and hip hop trio Salt-N-Pepa. The late 1990s saw the rise of successful female rappers and a turn in East Coast hip hop, with the debuts of Lil' Kim (with Hard Core) and Foxy Brown (with Ill Na Na), due to their use of excessive raunchy and provocative lyrics.\n",
      " By the end of the 1990s, attention turned towards dirty south and crunk, with artists such as Outkast, Trick Daddy, Trina, Three 6 Mafia, Master P, Juvenile, Missy Elliott and Lil Wayne.[44]\n",
      " The mid 1990s were marked by the deaths of the West Coast-based rapper 2Pac and the East Coast-based rapper The Notorious B.I.G., which conspiracy theorists claim were killed as a result of the East Coast–West Coast hip hop rivalry.\n",
      " Samples and interpolations of old songs in hip hop songs were common in the 1990s because it was meant to celebrate the end of the 2nd millennium and the 20th century by going retro. Many of these songs are as follows: \"U Can't Touch This\" by MC Hammer; \"Ice Ice Baby\" by Vanilla Ice; \"Jump Around\" by House of Pain; \"Mo Money Mo Problems\" and \"Big Poppa\" by Notorious B.I.G.; \"It Was a Good Day\" by Ice Cube; \"Regulate\" by Warren G and Nate Dogg; \"I'll Be Missing You\" by Puff Daddy featuring Faith Evans and 112; \"Ain't No Nigga\" by Jay-Z featuring Foxy Brown; \"Killing Me Softly\" by The Fugees; \"Feel So Good\" by Mase; \"Hey Lover\" by Boyz II Men featuring LL Cool J; \"C.R.E.A.M.\" by Wu-Tang Clan; \"Nuthin' but a 'G' Thang\" by Dr. Dre featuring Snoop Dogg; \"No Diggity\" by BLACKstreet; \"Gangsta's Paradise\" by Coolio featuring L.V.; \"The Rain (Supa Dupa Fly)\" by Missy Elliott; \"I Wish\" by Skee-Lo; \"People Everyday\" and \"Tennessee\" by Arrested Development; \"The Humpty Dance\" by Digital Underground; 2pac's \"Do for Love\", \"I Get Around\", and \"California Love\"; and Will Smith's \"Miami\", \"Gettin' Jiggy wit It\", \"Men in Black\", and \"Wild Wild West\".\n",
      " Some of the most prominent rap artists of the 1990s include 2Pac, Notorious B.I.G., Vanilla Ice, Nas, Ice Cube, Dr. Dre, LL Cool J, Eazy-E, Wu-Tang Clan, Snoop Doggy Dogg, Busta Rhymes, Cypress Hill, MC Hammer, Coolio, OutKast, Three 6 Mafia, Mobb Deep, A Tribe Called Quest, Puff Daddy, Will Smith and DMX, Master P, Jay Z.\n",
      " With the explosive growth of computers, music technology and consequent reduction in the cost of equipment in the early 1990s, it became possible for a wider number of musicians to produce electronic music. Even though initially most of the electronic music was dance music, the genre developed in the 1990s as musicians started producing music which was not necessarily designed for the dance-floor but rather for home listening (later on referred to as \"Electronica\") and slower paced music which was played throughout chillout rooms—the relaxation sections of the clubs (later on referred to as \"downtempo\", \"chill-out music\" and \"ambient music\").\n",
      " Since we don't really know what was the first electronic music computer generated track ever made, in the USA we can find in the intro of Pink Floyd's \"Dark Side Of The Moon\" released in 1973, a fully completed music track using only computers and machines. At the same time, in Germany, Kraftwerk is recognised as the very first band creating music only with machines and computers. Kraftwerk were the pioneers of what is electronic music nowadays.\n",
      " Then, the electronic music scene exploded in the world, with at the front line, Chicago for House Music, and Detroit the Techno.\n",
      " In the late 1990s, Madonna had success with her album Ray of Light which experimented with electronica sounds. Moby achieved international success in the ambient electronica scene after releasing his critically acclaimed album Play in 1999 which produced an impressive eight hit singles (including his most popular songs \"Porcelain\", \"Natural Blues\" and \"Why Does My Heart Feel So Bad?\").\n",
      " Electronic dance music was highly successful throughout the decade in Europe, particularly in Britain, Germany and Italy. Outdoor raves were popular at the start of the decade in the UK, before the government introduced its Criminal Justice and Public Order Act 1994, leading to a higher number of superclubs opening. Among the most successful were Ministry of Sound and Cream. Before the ban, popular genres at these raves included breakbeat hardcore and techno, though in the mid-1990s these genres splintered into separate scenes, such as happy hardcore, jungle and drum and bass, the latter of which received mainstream recognition through artists such as Goldie and Roni Size.\n",
      " Other notable British genres that emerged during the decade include progressive house, big beat, vocal house, trip hop and UK garage (or speed garage). The latter genre developed in London in the late 1990s and continued to be successful through to the early 2000s. DJ Culture also gained momentum during the 1990s. DJs such as Sasha, John Digweed, Paul Oakenfold, Ferry Corsten and Pete Tong became big names in the business, which was made desirable by magazines such as Mixmag and Muzik.\n",
      " Italy ended the 1980s with Italo house, before becoming one of many countries to release Eurodance and Hi-NRG. Both genres were commercially successful across the world, with artists such as 2 Unlimited, La Bouche and Captain Hollywood promoting the genre. Countries such as Germany and Belgium, however, developed harder, darker styles of music, namely gabber, hard trance and techno. Trance emerged in the early 1990s and by the end of the decade had penetrated most of Europe, with artists such as ATB, Ferry Corsten, WestBam and Paul Van Dyk gaining huge commercial and underground success. European trance remained popular until the early 2000s. Goa became famed for its goa trance parties and Ibiza became the Number 1 clubbers' holiday destination.\n",
      " The popularity of country music exploded in the early 1990s. The stage had been set in 1989 with the debuts of several performers who proved to be profoundly influential on the genre during the 1990s and beyond. Most notable of that group was Garth Brooks, who shattered records for album sales and concert attendance throughout the decade. The RIAA has certified his recordings at a combined (128× platinum), denoting roughly 113 million U.S. shipments.[45] Brooks recorded primarily in a honky-tonk style, although he frequently combined elements of soft rock and arena rock in his songs. His songs sometimes explored social themes, such as domestic violence (in \"The Thunder Rolls\") and racial harmony (\"We Shall Be Free)\", while others – such as \"Friends in Low Places\" — were just good-time songs with traditional country themes of heartbreak, loneliness and dealing with those emotions.\n",
      " Other performers who rose in popularity during the early 1990s were neo-traditionalists Clint Black and Alan Jackson and southern rock influenced Travis Tritt. Mary Chapin Carpenter had a folk-style about her, while Lorrie Morgan (the latter the daughter of the late George Morgan, himself a country legend) blended elements of country and pop, and occasionally operatic sounds in songs such as \"Something in Red.\" Trisha Yearwood was one of the top new singers of 1991, while Diamond Rio blended traditional and bluegrass styles and Brooks & Dunn provided a driving honky-tonk sound.\n",
      " During the early-to-middle part of the decade, several recordings were influenced by the popularity of line dancing, including \"Boot-Scootin' Boogie\" by Brooks & Dunn and \"Achy Breaky Heart\" by Billy Ray Cyrus. This influence was so great that Chet Atkins was quoted as saying \"The music has gotten pretty bad, I think. It's all that damn line dancing.\"[46]\n",
      " A steady stream of new artists began their careers during the mid- and late-1990s. Many of these careers were short-lived, but several went on to long-lived, profitable careers. The most successful of the new artists were Yearwood, Shania Twain, LeAnn Rimes, Lee Ann Womack, Martina McBride, Kenny Chesney, Collin Raye, Faith Hill, and Tim McGraw, while Lonestar and Dixie Chicks were the most successful new groups. Twain's Come on Over album became the best-selling album released by a female of any genre. Yearwood became the first woman in more than 25 years to have her debut single top the Billboard Country Singles chart in 1991 with her single \"She's in Love with the Boy\". Yearwood's debut album also became the first by a female country act to sell over 1 million copies, eventually going double platinum.\n",
      " Among artists whose success continued from the 1980s, Reba McEntire was the most successful of the female artists, selling more than 30 million albums during the decade, gaining eight number-one hit singles on the U.S. Hot Country Singles & Tracks chart and six number one albums internationally, including her best-selling album, Greatest Hits Vol. 2, which was released in September 1993 and has sold over an international amount of 10 million copies to date. George Strait, a neo-traditionalist whose national success began in the early 1980s, enjoyed success as both a radio artist (17 No. 1 songs) and as a movie star (1992's Pure Country). Alabama, the most successful country band of the 1980s, continued their run of popularity with sell-out concerts and best-selling albums, while topping the country chart five times. Among older artists having big hits, Conway Twitty was one of the most successful, scoring two Top 3 hits with \"Crazy in Love\" and \"I Couldn't See You Leaving\", while Eddie Rabbitt had a No. 1 hit with \"On Second Thought.\" Dolly Parton had a No. 1 hit (with relative newcomer Ricky Van Shelton) on \"Rockin' Years\" in 1991 and had several top 15 hits. Although his 1990s singles never reached the top 20 (excepting for a duet single with Randy Travis), George Jones (who had been around since the 1950s) regularly recorded and released critically acclaimed material, including the semi-autobiographical \"Choices.\" The Oak Ridge Boys continued their run of success with a No. 1 hit (\"No Matter How High\") and several other top 40 hits; in 1995, upon the departure of William Lee Golden's replacement Steve Sanders, Golden reunited with longtime band members Duane Allen, Joe Bonsall and Richard Sterban, and the group has remained intact since then. While the Oak Ridge Boys' contemporaries The Statler Brothers were no longer reaching the top 40, the veteran group remained highly popular with fans and their new albums continued to sell well. Other artists reaching the top 10 of the Hot Country Singles & Tracks chart were Waylon Jennings, Anne Murray, and Kenny Rogers.\n",
      " Pop-influenced country music began growing in popularity, particularly after Twain and Hill rose in popularity in the latter half of the 1990s. In 1998, Hill's \"This Kiss\" and Twain's \"You're Still the One\" both reached the top 10 of the Billboard Hot 100, in addition to peaking at No. 1 on the Hot Country Singles & Tracks chart. Rimes had a multi-million selling hit with \"How Do I Live\" (a song successfully covered by Yearwood), while Lonestar also had a huge crossover hit with \"Amazed.\" Although the occurrence of country crossing over to the pop charts goes back as far as the start of the Billboard charts in 1940, some critics began to be troubled by a trend toward what they perceived as pop music marketed as country; they contended that radio was concentrating more on newer music while ignoring the more traditional styles of older artists such as Merle Haggard, George Jones, and others who continued to record and release new material. Johnny Cash and producer Rick Rubin once purchased a full-page advertisement in Billboard magazine – after Cash's album Unchained won a Grammy for Best Country Album, despite a lack of support from radio – showing a young Cash displaying his middle finger and sarcastically \"thanking\" radio for supporting the album. The criticism of pop-influenced and non-traditional styles in country music, however, dated back to the 1970s although it had quieted down comparably during the 1980s.\n",
      " In the 1990s, alternative country came to refer to a diverse group of musicians and singers operating outside the traditions and industry of mainstream country music. In general, they eschewed the high production values and pop outlook of the Nashville-dominated industry, to produce music with a lo-fi sound, frequently infused with a strong punk and rock & roll aesthetic, bending the traditional rules of country music. Lyrics were often bleak, gothic or socially aware. Other initiators include Old 97's, Steve Earle, Uncle Tupelo, Son Volt, Ryan Adams, My Morning Jacket, Blitzen Trapper, and Drive-By Truckers.\n",
      " A number of notable artists in country music died during the decade, including Twitty, Webb Pierce, Dottie West, Tennessee Ernie Ford, Roger Miller, Roy Acuff, Charlie Rich, Minnie Pearl, Faron Young, John Denver, Carl Perkins, Grandpa Jones, Tammy Wynette, Eddie Rabbitt, Gene Autry, Roy Rogers, Rex Allen and Hank Snow.\n",
      " During the 1990s, concurrent with third wave ska, swing music made a resurgence in the form of swing revival, which brought the jazz form into the pop charts.  Reaching its commercial zenith around the time of the movie Swingers, whose soundtrack featured numerous 1990s swing bands, the movement was exemplified by bands such as Big Bad Voodoo Daddy, Cherry Poppin' Daddies, Squirrel Nut Zippers, and the Brian Setzer Orchestra.  The highest charting song of the genre would have been \"Jump, Jive an' Wail\" by the Brian Setzer Orchestra, which peaked at #23 on the Billboard Hot 100 in the U.S. in 1998, and won the Grammy Award for Best Pop Performance by a Duo or Group with Vocals in 1999.\n",
      " In December 1999, Billboard magazine named Mariah Carey as the best Artist of the Decade for the 1990s, while Janet Jackson followed second according to Billboard.[47]\n",
      " In 1999, Selena was named the \"top Latin artist of the '90s\" and \"best-selling Latin artist of the decade\" by Billboard, for her fourteen top-ten singles in the Top Latin Songs chart, including seven number-one hits.[48] The singer also had the most successful singles of 1994 and 1995, \"Amor Prohibido\" and \"No Me Queda Más\".[49]\n",
      " In the late 1980s/early 1990s, a counter-culture movement rose from the Manchester club scene that came to be known as Madchester. Happy Mondays, and The Stone Roses were the pre-eminent bands.\n",
      " In the early 1990s, a counter-culture movement rose in Britain, called Britpop by the music press, rejecting the themes of disenfranchised youth coming out of America in favour of songs written specifically about the experiences of the British youth. Although the movement was heavily influenced by 1960s, 1970s, and 1980s British rock there was very little that musically defined the Britpop bands beyond the intensely British lyrical themes. Britpop bands such as Blur, Suede, Pulp, Ash, Elastica, Supergrass, The Verve and Oasis regularly topped the singles and album charts throughout the decade. Oasis were the biggest band of the Britpop era, as their second album (What's the Story) Morning Glory? became the second highest selling studio album of all time in the U.K[50] and their era defining concerts at Knebworth Park, playing to 250,000 people over two nights,[51] broke records for attendance and ticket applications.[51] In addition to this, they made a significant impact on the US market, achieving three top 5 albums in that country. The Britpop phenomena ran out of steam by the end of the 1990s with most of its most successful bands splitting up or fading away, although two bands that did prominently ascend the rubble were Travis and Coldplay.\n",
      " From about 1997, Britpop as a movement began to dissolve, emerging bands began to avoid the Britpop label while still producing music derived from it.[52][53] Many of these bands tended to mix elements of British traditional rock (or British trad rock),[54] particularly the Beatles, Rolling Stones and Small Faces,[55] with American influences, including post-grunge.[56][57] Post-Britpop bands like Coldplay, Travis, Stereophonics and Feeder achieved much wider international success than most of the Britpop groups that had preceded them, and were some of the most commercially successful acts of the late 1990s.[57][58][59][60]\n",
      " The Irish Celtic folk rock band The Corrs achieved international success during the late 1990s with a series of hit recordings which established them as international stars and helped a successful career that continued into the 2000s.\n",
      " Pop music and dance music became popular throughout the 1990s. Popular European pop artists of the 1990s included Seal, Jamiroquai, Milli Vanilli, and Right Said Fred.\n",
      " During the 1990s, some European managers created their own boy band acts, beginning with Nigel Martin-Smith's Take That and East 17, which competed with Louis Walsh's Irish bands Westlife and Boyzone.[61] In 1996, the male saturated market was turned on its head by one of the most successful and influential pop acts of the decade, the Spice Girls. The group achieve nine number 1 singles in the UK and US, including \"Wannabe\", \"2 Become 1\" and \"Spice Up Your Life\".[62] The group, unlike their British boy band predecessors, manage to break America and achieve the best-selling album of 1997 in the USA. More Girl Groups begin to emerge such as All Saints, who had five number 1 hits in the UK and two multi-platinum albums.[63] By the end of the century the grip of boy bands on the charts was faltering, but proved the basis for solo careers like that of Robbie Williams, formerly of Take That, who achieved six number one singles in the UK between 1998 and 2004.[63] Additional popular European teen pop acts of the 1990s included Ace of Base, Aqua and A*Teens.\n",
      " Ballad songs were popular during this decade, and popular European artists included George Michael, Robert Palmer, Sade, Sinéad O'Connor, The Cranberries, Lisa Stansfield and Roxette. Danish pop band Michael Learns to Rock, fronted by singer/songwriter/keyboardist Jascha Richter, were well known for their ballads such as \"The Actor\", \"Sleeping Child\", \"That's Why (You Go Away)\", and \"Paint My Love\".\n",
      " In the summer of 1996, the Spanish music duo Los del Río popularized the dance craze \"Macarena\" with their summer hit \"Macarena\". The song was featured prominently in many other countries during the mid-1990s.\n",
      " With the explosive growth of computers music technology and consequent reduction in the cost of equipment in the early 1990s, it became possible for a wider number of musicians to produce electronic music.\n",
      " The popularity of house, techno and rave in the early part of the decade lead to the boom of the more commercial Eurodance genre. Popular European Eurodance acts of the decade included Toy-Box, Daze, Jonny Jakobsen, Alexia, Alice Deejay, Haddaway, Captain Jack, Captain Hollywood Project, Basic Element, Solid Base, Daze, Gigi D'Agostino, Vengaboys, 2 Unlimited, Cappella, Corona, Culture Beat, DJ Bobo, Dr. Alban, Ice MC, La Bouche, 2 Brothers on the 4th Floor, Twenty 4 Seven, Leila K, Fun Factory, Masterboy, Mr. President, Pandora, Magic Affair, Maxx, Loft, Sash!, BKS, Snap!, Playahitty, Love Inc., Real McCoy, Urban Cookie Collective, Scatman John, Paradisio and Whigfield. Eventually the popularity of the Eurodance genre lead to the huge popularity of the trance genre in the late 1990s and early 2000s.\n",
      " The 1990s also saw the development and refinement of IDM (Intelligent Dance Music), which borrowed from forms such as techno, drum and bass, and acid house music and introduced more abstract elements, including heavy use of digital signal processing.[64] Among the most commercially successful products in the 1990s of these scenes were European acts such as The Prodigy, The Chemical Brothers and Fatboy Slim, Aphex Twin, Autechre, Boards of Canada and Squarepusher.\n",
      " The arrival of Massive Attack in the early 1990s leads to a new style of slow electronic music, that is dubbed trip hop and influences groups such as Portishead, Björk, Tricky, Morcheeba and Thievery Corporation.\n",
      " Additional popular and commercially successful European electronic music artists of the 1990s include Leftfield, LFO, Massive Attack, Portishead, Underworld, Mr. Oizo, Orbital and Vitalic.\n",
      " In 1991, 21-year-old singer Luis Miguel rediscovers the bolero, echoing back to the trios of the 1940s with his album Romance. He becomes the biggest international Latin star until the late 1990s.\n",
      " From early to mid-1990s successful acts such as Selena Quintanilla-Pérez, Thalía, Lynda Thomas, Chayanne and Paulina Rubio became the first 1990s music idols in Latin America, subsequently appeared other successful singers and pop groups, including No Mercy, Shakira, Fey and Enrique Iglesias, they also achieved international success.\n",
      " In 1998, Ricky Martin eclipses Luis Miguel as the top Latin star as he performs \"The Cup of Life\" during the 1998 World Cup and releases \"Livin' La Vida Loca\" which would become an international hit. In 2000, Martin's song \"She Bangs\" hit Number 1 in Spain and Italy and Number 2 in the UK and Canada, and debuted at Number 3 in Australia, staying in the Top 10 there for another six more weeks.\n",
      " By the early 1990s, Puerto Rico becomes a merengue stronghold, with acts such as Elvis Crespo, Olga Tañon and Grupo Mania topping the charts throughout Latin America.\n",
      " After Selena's death, Colombian singer Shakira, Puerto Rican-American pop star Jennifer Lopez, and Spanish singer Enrique Iglesias began to rise into the top of the pop charts by the end of the decade.\n",
      " Latin boy bands and vocal pop groups were storming up the charts in Mexico and Central America. Mexican boy band Magneto spawned hits in the early 1990s but split in 1996. In 1995, their successors, Mercurio continued making top hits like Bye Bye Baby and Explota Corazón. MDO, a Puerto Rican boy band also hoarded the charts with songs like No Puedo Olvidarme de Ti. Mexican pop groups Onda Vaselina and Kabah spanned several hits in the Latin American charts and made history in the Mexican charts. Jeans, Mexican pop girl group rose to fame in late 1996 and 1997 and continued until the 2000s.\n",
      " Surge of newfound interest in Spanish-language rock, led by bands like Soda Stereo, Héroes del Silencio, Los Fabulosos Cadillacs, Maná, La Ley, Café Tacuba or Los Tres which gained large international following during this period. Others would follow their footsteps.\n",
      " Along with the rise of Spanish rock came \"rock alternativo\", a Spanish equivalent to alternative rock headed by bands like Los Piojos, Babasónicos and Attaque 77. The \"rolinga\" or \"stone rock\" genre also emerged from \"rock alternativo\", popularized and headed throughout the entire decade by Viejas Locas. The stone-rock genre would remain popular in the 2000s with the Viejas Locas' vocalist, Pity Álvarez's other band, Intoxicados.\n",
      " During the 1990s, salsa spread from the Caribbean region all over Latin America sharing the dance music niche with cumbia. During this period salsa became also increasingly popular as dance music in the US and Europe.\n",
      "Beginning in 1990, the salsa romantica that began in the 1980s becomes a standard in tropical music thanks to chart-topping stars mainly from Puerto Rico such as Marc Anthony, Jerry Rivera, Tito Rojas, Víctor Manuelle and Gilberto Santa Rosa.\n",
      " In the 1990s, the popularity of cumbia waned in favour of other styles such as salsa but remained relatively strong. In Argentina, Mexico, El salvador, Colombia and other countries as well syntetizers and elemetyns of electronic music were incorporated into cumbia giving birth to cumbia sonidera, cumbia andina mexicana and cumbia villera. The blending of chicha music and cumbia in Peru also gained large popularity.\n",
      " Bands INXS and Crowded House, who had risen to international fame in the 1980s, continued their success into the nineties. However, INXS saw a decline in popularity after the release of 1993's Full Moon, Dirty Hearts, which did not even reach the US Top 50 and on 22 November 1997, a few months after the release of the band's tenth studio album Elegantly Wasted, lead singer Michael Hutchence was found dead in a Sydney hotel room. Crowded House released two further albums, 1991's Woodface and 1994's Together Alone, which were both successful internationally, but disbanded in 1996 after playing their 'Farewell to the World' concert at the steps of the Sydney Opera House. Their greatest hits compilation album Recurring Dream, released in 1996, debuted at number one in Australia, New Zealand and the United Kingdom and reached the Top 20 in several European territories.\n",
      " Australian singer Kylie Minogue, who quickly rose to fame in the late eighties, continued to be popular throughout the decade, most notably with songs \"Confide in Me\" and \"Where the Wild Roses Grow\", which she recorded with Nick Cave. The nineties also saw the emergence of pop/rock singer Natalie Imbruglia who gained a worldwide popularity with a cover of Ednaswap's song Torn, pop singer Peter Andre, pop band Human Nature, Tina Arena and R&B Hip Hop artists CDB and Deni Hines. Notable nineties Australian rock bands include Silverchair, Savage Garden, Bachelor Girl, Powderfinger, and The Living End.\n",
      " In New Zealand, hip hop group OMC's single \"How Bizarre\" became the most successful New Zealand song in history, reaching number one in several music charts around the world, including Australia, Canada, Ireland, South Africa and Austria.[65]  The nineties saw a surge in popularity of alternative rock music in New Zealand, especially the popularity of alternative rock bands from the independent music label Flying Nun Records. Successful alternative rock bands of this era include Straitjacket Fits, Headless Chickens and The Chills. Headless Chickens provided Flying Nun with their first number one New Zealand single in 1994 with their song \"George\".\n",
      " Tokyo-based noise rock band Melt-Banana became an international touring cult act as well as the Boredoms.\n",
      " J-Pop was a major trend in the late 1990s. The Japanese record label Avex Trax produced a string of top-charting J-pop artists, including Namie Amuro, Ayumi Hamasaki, and the band Every Little Thing (band). Hikaru Utada, only 16 at the time, scored her signature hit in 1999 with \"Automatic\", which was later covered by Hong Kong singer Kelly Chen. Also in 1999, DA PUMP, a four-member boyband, had a hit with \"Crazy Beat Goes On!\",[66] featured in the soundtrack of the year's film blockbuster, Star Wars Episode 1: The Phantom Menace. \"Give me a shake\", by girl-band MAX (band), was also a chart-topper in 1999.\n",
      " J-pop in the 1990s was significant because of its irresistible inclusion of English lyrics in the songs. Titles of most songs were also often in English. Notable examples include \"Feeling good – it's paradise\" by DA PUMP and \"Give me a shake\" by MAX. Other J-pop artists, such as Hokkaido two-girl band Kiroro, rarely included English lyrics in their songs.\n",
      " Some non-Japanese-speaking artists, such as Taiwan's Vivian Hsu, also crossed over successfully into J-pop; Hsu's band Black Biscuits had a hit single in 1999 in both Japanese[67] and Taiwanese Mandarin[68] with \"Bye bye\". Taiwanese singer A-mei recorded a Japanese song on her 1999 album May I hold you, lover?.\n",
      " The 1990s saw a revival of interest in local music in Hong Kong, Taiwan, Malaysia, and Singapore. In these four regions alone, local artists outsold foreign artists, especially during the late 1990s.\n",
      " Three big Taiwanese rockers were household names throughout the 1990s. In 1997, it was Wu Bai; in 1998, the two-piece outfit Power Station (Taiwanese band); and in 1999, the veteran pub guitarist/singer Dick Cowboy.\n",
      " Wu was known for his versatile ability to sing and write songs in Hokkien (\"Number one in the world\",[69] \"Back to hometown\",[70] \"Lonely tree, lonely bird\"[71]) as well as Taiwanese Mandarin (\"Wanderer's love song\",[72] \"Crying woman\"[73]), and also his poetic lyrics. His compositions were also recorded by other artists such as Hong Kong's Jacky Cheung (\"If this is not love\"[74]), Wakin Chau (\"Crying woman\"[75]), and Andy Lau (\"Number one in the world\",[76] \"Lone star tear\"[77]), and Taiwan's Tarcy Su (\"Lazy Man's Diary\",[78] \"Passive\",[79] \"Yellow Moon\"[80]).\n",
      " Power Station, a Taiwanese aboriginal duo from the Paiwan tribe, were well known for their long hair, pitch-perfect two-part vocal harmonies, branded guitars/basses, and electrifying rock anthems. Members Yu Chiu-Hsin and Yen Chih-Lin also enjoyed success as singers of numerous television opening (and occasionally ending) themes throughout 1998 and 1999; they won the Best Theme Song award at the 1999 Star Awards for their song \"I can endure the hardship\", opening theme song to the award-winning drama series Stepping Out.[81]\n",
      " Dick Cowboy had been a singer in various pubs in his youth, and was especially known for his covers of songs by A-mei,[82][83][84] Phil Chang,[85] and Jeff Chang.[86] In 1999, at the age of 40, his original composition \"Forget me or forget him\"[87] propelled him to superstardom.\n",
      " High-voiced male singers were fashionable in Taiwanese pop music in the 1990s. Jeff Chang was the foremost of these. His album Intuition (1998) contained the title track,[88] which is his biggest single to date.\n",
      " Singer-songwriter Panda Hsiung, whose voice was very similar to Chang's, had his biggest hit with his original composition \"Incomprehensible memories\"[89] in 1998, which was featured on the soundtrack of the drama, Legend of the Eight Immortals. Panda also had a string of hits throughout 1998 and 1999, including \"I Wander Alone\",[90] \"River of the Blues\",[91] \"Snowbird\",[92]  and \"The Match Girl\".[93]\n",
      " Other popular Taiwanese male singers with exceptionally high voices during the 1990s included Chang Yu Sheng, Terry Lin, and Chyi Chin.\n",
      " The Eurodance craze found its way into the Asian pop market with such singers as Yuki Hsu. Her first big hit, recorded in 1999 when she was only 20, was \"Who is bad?\",[94] a cover of Jonny Jakobsen's \"Calcutta (Taxi taxi taxi)\".[95] Similarly, J-pop became popular in Taiwan and Hong Kong after their songs were translated into Chinese, for instance Kelly Chen's \"Automatic[96] \", a cover of the Hikaru Utada original;[97] and Rene Liu's \"Later\",[98] a remake of the Kiroro original.[99]\n",
      " Hong Kong's Four Heavenly Kings – Aaron Kwok, Andy Lau, Jacky Cheung, and Leon Lai – were the undisputed solo artists from Hong Kong in the 1990s. Cheung was also nicknamed the \"God of Songs\" during this period.\n",
      " Young Hong Kong singers Daniel Chan, Ronald Cheng, and Gigi Leung had their big breaks in the 1990s. Chan's \"Only you in my heart\",[100] on the album of the same name, was released in 1997 when Chan was only 22; the song was later selected as the opening theme song of Singaporean TV series, From the Medical Files. Chan would also continue to sing a few television opening/ending themes in 1998, including \"Lonely nights I'm not lonely\"[101] (from Stand by me), \"When dreams are discovered\"[102] and \"Does your heart hurt\"[103] (both from A Piece of Sky).\n",
      " Cheng's album I Really Can was released in 1999 and was his biggest seller to date; his other successful albums included You Are Not My Dearest Lover (1997) and Don't Love Me (1996).\n",
      " Leung's album Fresh (1999), along with its title track,[104] was a bestseller upon its release, and the title track remains her signature song.\n",
      " Julie Su Rui of Taiwan and Anita Mui of Hong Kong, both of them established veteran singers, also had comeback albums in this period. Su's album Love Comes This Way was released in 1998, and Mui's Intimate Lover, in 1992.\n",
      " In late 1999, two Hong Kong veteran singers had chart-topping albums. Jordan Chan's album A Bigger Star contained the song \"I Don't Have Such Fate\";[105] while William So's album Loving Someone Is So Hard contained \"You + Me + Heartbroken\",[106] a re-recording of his signature song \"Sadder as We Kiss\" with new lyrics.\n",
      " Other Asian singers who had chart-toppers in the 1990s included, among others:\n",
      " The 1990s also saw the death of Taiwanese countertenor singer Chang Yu Sheng, who died in a car accident late in 1997. His protege, aboriginal singer A-mei, recorded the song \"Hearing You, Hearing Me\" in his memory.[107]\n",
      "\n"
     ]
    }
   ],
   "source": [
    "print(raw_text)"
   ]
  },
  {
   "cell_type": "markdown",
   "metadata": {},
   "source": [
    "#### Extract best-selling music artists from https://en.wikipedia.org/wiki/List_of_bestselling_music_artists "
   ]
  },
  {
   "cell_type": "markdown",
   "metadata": {},
   "source": [
    "Extract best-selling music artists by reputed sales"
   ]
  },
  {
   "cell_type": "code",
   "execution_count": 296,
   "metadata": {},
   "outputs": [],
   "source": [
    "url = 'https://en.wikipedia.org/wiki/List_of_best-selling_music_artists'\n",
    "req = Request(url)\n",
    "response = urlopen(req)"
   ]
  },
  {
   "cell_type": "code",
   "execution_count": 297,
   "metadata": {},
   "outputs": [],
   "source": [
    "soup = BeautifulSoup(response.read())"
   ]
  },
  {
   "cell_type": "code",
   "execution_count": 298,
   "metadata": {
    "scrolled": false
   },
   "outputs": [
    {
     "name": "stdout",
     "output_type": "stream",
     "text": [
      "Top artists with 250 million or more records:\n",
      "\tThe Beatles\n",
      "\tElvis Presley\n",
      "\tMichael Jackson\n",
      "\tMadonna\n",
      "\tElton John\n",
      "\tLed Zeppelin\n",
      "\tRihanna\n",
      "\tPink Floyd\n",
      "\n",
      "Top artists with 200 million to 249 million records:\n",
      "\tEminem\n",
      "\tTaylor Swift\n",
      "\tMariah Carey\n",
      "\tQueen\n",
      "\tWhitney Houston\n",
      "\tCeline Dion\n",
      "\tAC/DC\n",
      "\tThe Rolling Stones\n",
      "\n",
      "Top artists with 120 million to 199 million records:\n",
      "\tGarth Brooks\n",
      "\tEagles\n",
      "\tBilly Joel\n",
      "\tU2\n",
      "\tPhil Collins\n",
      "\tAerosmith\n",
      "\tABBA\n",
      "\tFrank Sinatra\n",
      "\tBarbra Streisand\n",
      "\tJustin Bieber\n",
      "\tEd Sheeran\n",
      "\tBruce Springsteen\n",
      "\tKanye West\n",
      "\tBruno Mars\n",
      "\tMetallica\n",
      "\tBee Gees\n",
      "\n",
      "Top artists with 100 million to 119 million records:\n",
      "\tLady Gaga\n",
      "\tDrake\n",
      "\tMaroon 5\n",
      "\tKaty Perry\n",
      "\tJay-Z\n",
      "\tAdele\n",
      "\tChris Brown\n",
      "\tLil Wayne\n",
      "\tBeyoncé\n",
      "\tColdplay\n",
      "\tB'z\n",
      "\tBon Jovi\n",
      "\tLinkin Park\n",
      "\tFleetwood Mac\n",
      "\tBritney Spears\n",
      "\tRod Stewart\n",
      "\tBackstreet Boys\n",
      "\tGuns N' Roses\n",
      "\tGeorge Strait\n",
      "\tEric Clapton\n",
      "\tNeil Diamond\n",
      "\tSantana\n",
      "\tPrince\n",
      "\tKenny Rogers\n",
      "\tPaul McCartney\n",
      "\tSimon & Garfunkel\n",
      "\tJanet Jackson\n",
      "\tJulio Iglesias\n",
      "\tChicago\n",
      "\tDire Straits\n",
      "\tBob Dylan\n",
      "\tDef Leppard\n",
      "\tCher\n",
      "\tGenesis\n",
      "\tOlivia Newton-John\n",
      "\tJames Taylor\n",
      "\tStevie Wonder\n",
      "\tDavid Bowie\n",
      "\tTina Turner\n",
      "\tLinda Ronstadt\n",
      "\tDonna Summer\n",
      "\tThe Beach Boys\n",
      "\tThe Who\n",
      "\tBarry White\n",
      "\n",
      "Top artists with 80 million to 99 million records:\n",
      "\tShania Twain\n",
      "\tPink\n",
      "\tThe Carpenters\n",
      "\tLionel Richie\n",
      "\tEarth, Wind & Fire\n",
      "\tJohnny Cash\n",
      "\tJustin Timberlake\n",
      "\tNicki Minaj\n",
      "\tR.E.M.\n",
      "\tFlo Rida\n",
      "\tVan Halen\n",
      "\tAyumi Hamasaki\n",
      "\tRed Hot Chili Peppers\n",
      "\tForeigner\n",
      "\tGeorge Michael\n",
      "\tThe Doors\n",
      "\tMeat Loaf\n",
      "\tReba McEntire\n",
      "\tTom Petty\n",
      "\tJohnny Hallyday\n",
      "\n",
      "Top artists with 75 million to 79 million records:\n",
      "\tThe Black Eyed Peas\n",
      "\tJourney\n",
      "\tTim McGraw\n",
      "\tUsher\n",
      "\tChristina Aguilera\n",
      "\tR. Kelly\n",
      "\tRobbie Williams\n",
      "\tKenny G\n",
      "\tTupac Shakur\n",
      "\tEnya\n",
      "\tShakira\n",
      "\tAlabama\n",
      "\tNirvana\n",
      "\tBryan Adams\n",
      "\tBob Seger\n",
      "\tBob Marley\n",
      "\tThe Police\n",
      "\tBarry Manilow\n",
      "\tKiss\n",
      "\tAretha Franklin\n",
      "\n"
     ]
    }
   ],
   "source": [
    "def get_clean_text(bsoup):\n",
    "    return bsoup.get_text().replace('\\n','')\n",
    "\n",
    "reputed_sales = [i.get_text() for i in soup.find_all('span', {'class':'mw-headline'}) if i.parent.name=='h3']\n",
    "tables = soup.find_all('table',{'class':'wikitable plainrowheaders sortable'})\n",
    "\n",
    "top_artists = []\n",
    "for idx,sales_cat in enumerate(reputed_sales):\n",
    "    print(f'Top artists with {sales_cat}:')\n",
    "    top_artists_by_sales = [get_clean_text(i) for i in tables[idx].find_all(['tbody','tr','th'], {'scope':'row'})]\n",
    "    top_artists += top_artists_by_sales\n",
    "    for artist in top_artists_by_sales:\n",
    "        print('\\t{}'.format(artist))\n",
    "    print('')"
   ]
  },
  {
   "cell_type": "code",
   "execution_count": 312,
   "metadata": {},
   "outputs": [
    {
     "name": "stdout",
     "output_type": "stream",
     "text": [
      "All best-selling music artists:\n",
      " ['The Beatles', 'Elvis Presley', 'Michael Jackson', 'Madonna', 'Elton John', 'Led Zeppelin', 'Rihanna', 'Pink Floyd', 'Eminem', 'Taylor Swift', 'Mariah Carey', 'Queen', 'Whitney Houston', 'Celine Dion', 'AC/DC', 'The Rolling Stones', 'Garth Brooks', 'Eagles', 'Billy Joel', 'U2', 'Phil Collins', 'Aerosmith', 'ABBA', 'Frank Sinatra', 'Barbra Streisand', 'Justin Bieber', 'Ed Sheeran', 'Bruce Springsteen', 'Kanye West', 'Bruno Mars', 'Metallica', 'Bee Gees', 'Lady Gaga', 'Drake', 'Maroon 5', 'Katy Perry', 'Jay-Z', 'Adele', 'Chris Brown', 'Lil Wayne', 'Beyoncé', 'Coldplay', \"B'z\", 'Bon Jovi', 'Linkin Park', 'Fleetwood Mac', 'Britney Spears', 'Rod Stewart', 'Backstreet Boys', \"Guns N' Roses\", 'George Strait', 'Eric Clapton', 'Neil Diamond', 'Santana', 'Prince', 'Kenny Rogers', 'Paul McCartney', 'Simon & Garfunkel', 'Janet Jackson', 'Julio Iglesias', 'Chicago', 'Dire Straits', 'Bob Dylan', 'Def Leppard', 'Cher', 'Genesis', 'Olivia Newton-John', 'James Taylor', 'Stevie Wonder', 'David Bowie', 'Tina Turner', 'Linda Ronstadt', 'Donna Summer', 'The Beach Boys', 'The Who', 'Barry White', 'Shania Twain', 'Pink', 'The Carpenters', 'Lionel Richie', 'Earth, Wind & Fire', 'Johnny Cash', 'Justin Timberlake', 'Nicki Minaj', 'R.E.M.', 'Flo Rida', 'Van Halen', 'Ayumi Hamasaki', 'Red Hot Chili Peppers', 'Foreigner', 'George Michael', 'The Doors', 'Meat Loaf', 'Reba McEntire', 'Tom Petty', 'Johnny Hallyday', 'The Black Eyed Peas', 'Journey', 'Tim McGraw', 'Usher', 'Christina Aguilera', 'R. Kelly', 'Robbie Williams', 'Kenny G', 'Tupac Shakur', 'Enya', 'Shakira', 'Alabama', 'Nirvana', 'Bryan Adams', 'Bob Seger', 'Bob Marley', 'The Police', 'Barry Manilow', 'Kiss', 'Aretha Franklin']\n"
     ]
    }
   ],
   "source": [
    "print('All best-selling music artists:\\n',top_artists)"
   ]
  },
  {
   "cell_type": "markdown",
   "metadata": {},
   "source": [
    "#### Find out how many best-selling music artists are from 1990s through extracted raw text from (a)"
   ]
  },
  {
   "cell_type": "code",
   "execution_count": 310,
   "metadata": {},
   "outputs": [],
   "source": [
    "top_artists_1990 = []\n",
    "for artist in top_artists:\n",
    "    if artist in raw_text:\n",
    "        top_artists_1990.append(artist)"
   ]
  },
  {
   "cell_type": "code",
   "execution_count": 311,
   "metadata": {},
   "outputs": [
    {
     "name": "stdout",
     "output_type": "stream",
     "text": [
      "Number of best-selling music artists from 1990s identified: 46\n",
      "Artist names: ['The Beatles', 'Michael Jackson', 'Madonna', 'Elton John', 'Pink Floyd', 'Mariah Carey', 'Queen', 'Whitney Houston', 'The Rolling Stones', 'Garth Brooks', 'Aerosmith', 'Metallica', 'Jay-Z', 'Lil Wayne', 'Beyoncé', 'Coldplay', 'Bon Jovi', 'Britney Spears', 'Backstreet Boys', \"Guns N' Roses\", 'George Strait', 'Kenny Rogers', 'Janet Jackson', 'Chicago', 'Def Leppard', 'Cher', 'Shania Twain', 'Pink', 'Johnny Cash', 'R.E.M.', 'Van Halen', 'Ayumi Hamasaki', 'Red Hot Chili Peppers', 'George Michael', 'Reba McEntire', 'Tom Petty', 'Tim McGraw', 'Usher', 'Christina Aguilera', 'R. Kelly', 'Robbie Williams', 'Shakira', 'Alabama', 'Nirvana', 'Bryan Adams', 'Kiss']\n"
     ]
    }
   ],
   "source": [
    "print('Number of best-selling music artists from 1990s identified:',len(top_artists_1990))\n",
    "print('Artist names:',top_artists_1990)"
   ]
  }
 ],
 "metadata": {
  "kernelspec": {
   "display_name": "Python 3",
   "language": "python",
   "name": "python3"
  },
  "language_info": {
   "codemirror_mode": {
    "name": "ipython",
    "version": 3
   },
   "file_extension": ".py",
   "mimetype": "text/x-python",
   "name": "python",
   "nbconvert_exporter": "python",
   "pygments_lexer": "ipython3",
   "version": "3.6.8"
  }
 },
 "nbformat": 4,
 "nbformat_minor": 2
}
